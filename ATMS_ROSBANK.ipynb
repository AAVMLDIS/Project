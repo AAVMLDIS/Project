{
 "cells": [
  {
   "cell_type": "code",
   "execution_count": 1,
   "id": "82e47447-301f-4f55-adbb-83a9cab622f3",
   "metadata": {},
   "outputs": [],
   "source": [
    "import pandas as pd"
   ]
  },
  {
   "cell_type": "code",
   "execution_count": 112,
   "id": "5ef915a0-4c1a-475c-ae41-652a4b2bf0d9",
   "metadata": {},
   "outputs": [],
   "source": [
    "from geopy.distance import geodesic\n",
    "import duckdb\n",
    "from tqdm import tqdm"
   ]
  },
  {
   "cell_type": "code",
   "execution_count": 45,
   "id": "980934f7-316e-4c63-9c3e-2e60334e4f44",
   "metadata": {},
   "outputs": [],
   "source": [
    "pd.set_option('display.max_colwidth', None)"
   ]
  },
  {
   "cell_type": "code",
   "execution_count": 2,
   "id": "4cb0f7ef-ab34-401f-8319-8964152fd912",
   "metadata": {},
   "outputs": [],
   "source": [
    "rosbank_df=pd.read_csv('Projects/Geo_Atms_Project/rosbank_happy_data_year/data/train.csv')"
   ]
  },
  {
   "cell_type": "code",
   "execution_count": 35,
   "id": "c8b5110c-44e1-4778-88d2-4fcfccd8e4c6",
   "metadata": {},
   "outputs": [],
   "source": [
    "rosbank_df=rosbank_df.dropna()"
   ]
  },
  {
   "cell_type": "code",
   "execution_count": 95,
   "id": "1fc1866f-e3ae-4316-bfb6-b1f063115496",
   "metadata": {},
   "outputs": [],
   "source": [
    "def get_region(x: str):\n",
    "    if x.split(',')[-1].lstrip().isdigit():\n",
    "        return x.split(',')[-3].lstrip()\n",
    "    else:\n",
    "        return x.split(',')[-2].lstrip()"
   ]
  },
  {
   "cell_type": "code",
   "execution_count": 96,
   "id": "313ab4b9-ca81-4f96-831e-10f5c1d229d5",
   "metadata": {},
   "outputs": [],
   "source": [
    "rosbank_df['region']=rosbank_df.address_rus.apply(\n",
    "    lambda x: get_region(x))"
   ]
  },
  {
   "cell_type": "code",
   "execution_count": 97,
   "id": "6c14767e-cf62-4c35-a066-4948d776ad92",
   "metadata": {},
   "outputs": [
    {
     "data": {
      "text/html": [
       "<div>\n",
       "<style scoped>\n",
       "    .dataframe tbody tr th:only-of-type {\n",
       "        vertical-align: middle;\n",
       "    }\n",
       "\n",
       "    .dataframe tbody tr th {\n",
       "        vertical-align: top;\n",
       "    }\n",
       "\n",
       "    .dataframe thead th {\n",
       "        text-align: right;\n",
       "    }\n",
       "</style>\n",
       "<table border=\"1\" class=\"dataframe\">\n",
       "  <thead>\n",
       "    <tr style=\"text-align: right;\">\n",
       "      <th></th>\n",
       "      <th>region</th>\n",
       "      <th>cnt_atms</th>\n",
       "    </tr>\n",
       "  </thead>\n",
       "  <tbody>\n",
       "    <tr>\n",
       "      <th>48</th>\n",
       "      <td>Москва</td>\n",
       "      <td>575</td>\n",
       "    </tr>\n",
       "    <tr>\n",
       "      <th>49</th>\n",
       "      <td>Московская область</td>\n",
       "      <td>321</td>\n",
       "    </tr>\n",
       "    <tr>\n",
       "      <th>67</th>\n",
       "      <td>Приморский край</td>\n",
       "      <td>206</td>\n",
       "    </tr>\n",
       "    <tr>\n",
       "      <th>91</th>\n",
       "      <td>Санкт-Петербург</td>\n",
       "      <td>194</td>\n",
       "    </tr>\n",
       "    <tr>\n",
       "      <th>82</th>\n",
       "      <td>Республика Татарстан</td>\n",
       "      <td>179</td>\n",
       "    </tr>\n",
       "    <tr>\n",
       "      <th>...</th>\n",
       "      <td>...</td>\n",
       "      <td>...</td>\n",
       "    </tr>\n",
       "    <tr>\n",
       "      <th>70</th>\n",
       "      <td>Республика Адыгея</td>\n",
       "      <td>4</td>\n",
       "    </tr>\n",
       "    <tr>\n",
       "      <th>69</th>\n",
       "      <td>Псковская область</td>\n",
       "      <td>2</td>\n",
       "    </tr>\n",
       "    <tr>\n",
       "      <th>24</th>\n",
       "      <td>Кабардино-Балкарская Республика</td>\n",
       "      <td>1</td>\n",
       "    </tr>\n",
       "    <tr>\n",
       "      <th>78</th>\n",
       "      <td>Республика Крым</td>\n",
       "      <td>1</td>\n",
       "    </tr>\n",
       "    <tr>\n",
       "      <th>119</th>\n",
       "      <td>Чукотский автономный округ</td>\n",
       "      <td>1</td>\n",
       "    </tr>\n",
       "  </tbody>\n",
       "</table>\n",
       "<p>123 rows × 2 columns</p>\n",
       "</div>"
      ],
      "text/plain": [
       "                              region  cnt_atms\n",
       "48                            Москва       575\n",
       "49                Московская область       321\n",
       "67                   Приморский край       206\n",
       "91                   Санкт-Петербург       194\n",
       "82              Республика Татарстан       179\n",
       "..                               ...       ...\n",
       "70                 Республика Адыгея         4\n",
       "69                 Псковская область         2\n",
       "24   Кабардино-Балкарская Республика         1\n",
       "78                   Республика Крым         1\n",
       "119       Чукотский автономный округ         1\n",
       "\n",
       "[123 rows x 2 columns]"
      ]
     },
     "execution_count": 97,
     "metadata": {},
     "output_type": "execute_result"
    }
   ],
   "source": [
    "rosbank_df.groupby('region')['id'].count().reset_index(name='cnt_atms').sort_values(by='cnt_atms', ascending=False)"
   ]
  },
  {
   "cell_type": "code",
   "execution_count": 119,
   "id": "c0b2e537-bfa1-4bba-8314-158148a227f2",
   "metadata": {},
   "outputs": [
    {
     "data": {
      "text/plain": [
       "array(['Сахалинская область', 'Москва', 'Красноярский край',\n",
       "       'Приморский край', 'Московская область'], dtype=object)"
      ]
     },
     "execution_count": 119,
     "metadata": {},
     "output_type": "execute_result"
    }
   ],
   "source": [
    "rosbank_df.region.unique()[:5]"
   ]
  },
  {
   "cell_type": "code",
   "execution_count": 99,
   "id": "5dae9530-4c0a-4be8-b394-9c9e17a9787f",
   "metadata": {},
   "outputs": [],
   "source": [
    "rosbank_df_mmo=rosbank_df[rosbank_df.region.isin(['Москва', 'Московская область'])]"
   ]
  },
  {
   "cell_type": "code",
   "execution_count": 103,
   "id": "931d3635-7f90-4361-aa6f-ab0ca337e346",
   "metadata": {},
   "outputs": [
    {
     "data": {
      "text/html": [
       "<div>\n",
       "<style scoped>\n",
       "    .dataframe tbody tr th:only-of-type {\n",
       "        vertical-align: middle;\n",
       "    }\n",
       "\n",
       "    .dataframe tbody tr th {\n",
       "        vertical-align: top;\n",
       "    }\n",
       "\n",
       "    .dataframe thead th {\n",
       "        text-align: right;\n",
       "    }\n",
       "</style>\n",
       "<table border=\"1\" class=\"dataframe\">\n",
       "  <thead>\n",
       "    <tr style=\"text-align: right;\">\n",
       "      <th></th>\n",
       "      <th>Unnamed: 0</th>\n",
       "      <th>id</th>\n",
       "      <th>atm_group</th>\n",
       "      <th>address</th>\n",
       "      <th>address_rus</th>\n",
       "      <th>lat</th>\n",
       "      <th>long</th>\n",
       "      <th>target</th>\n",
       "      <th>region_dtype</th>\n",
       "      <th>region</th>\n",
       "    </tr>\n",
       "  </thead>\n",
       "  <tbody>\n",
       "    <tr>\n",
       "      <th>3</th>\n",
       "      <td>3</td>\n",
       "      <td>8684.0</td>\n",
       "      <td>32.0</td>\n",
       "      <td>LENINGRADSKIY PR.,76A  MOSCOW</td>\n",
       "      <td>Ленинградский проспект, 76А, Москва, Россия, 125315</td>\n",
       "      <td>55.805827</td>\n",
       "      <td>37.515146</td>\n",
       "      <td>-0.094035</td>\n",
       "      <td>1</td>\n",
       "      <td>Москва</td>\n",
       "    </tr>\n",
       "    <tr>\n",
       "      <th>6</th>\n",
       "      <td>6</td>\n",
       "      <td>335.0</td>\n",
       "      <td>32.0</td>\n",
       "      <td>SHUKHOVA, 14           MOSCOW</td>\n",
       "      <td>улица Шухова, 14, Москва, Россия, 115162</td>\n",
       "      <td>55.716859</td>\n",
       "      <td>37.613063</td>\n",
       "      <td>-0.024682</td>\n",
       "      <td>1</td>\n",
       "      <td>Москва</td>\n",
       "    </tr>\n",
       "  </tbody>\n",
       "</table>\n",
       "</div>"
      ],
      "text/plain": [
       "   Unnamed: 0      id  atm_group                                 address  \\\n",
       "3           3  8684.0       32.0  LENINGRADSKIY PR.,76A  MOSCOW            \n",
       "6           6   335.0       32.0  SHUKHOVA, 14           MOSCOW            \n",
       "\n",
       "                                           address_rus        lat       long  \\\n",
       "3  Ленинградский проспект, 76А, Москва, Россия, 125315  55.805827  37.515146   \n",
       "6             улица Шухова, 14, Москва, Россия, 115162  55.716859  37.613063   \n",
       "\n",
       "     target  region_dtype  region  \n",
       "3 -0.094035             1  Москва  \n",
       "6 -0.024682             1  Москва  "
      ]
     },
     "execution_count": 103,
     "metadata": {},
     "output_type": "execute_result"
    }
   ],
   "source": [
    "rosbank_df_mmo.head(2)"
   ]
  },
  {
   "cell_type": "code",
   "execution_count": 88,
   "id": "d00dcc73-5eba-4ad7-a30d-f6a16a67cd40",
   "metadata": {},
   "outputs": [],
   "source": [
    "df_mmo_geocoded=pd.read_csv('df_mmo_geocoded.csv')"
   ]
  },
  {
   "cell_type": "code",
   "execution_count": 104,
   "id": "541a962a-29ea-4201-ba8b-4e243ea47778",
   "metadata": {},
   "outputs": [
    {
     "data": {
      "text/html": [
       "<div>\n",
       "<style scoped>\n",
       "    .dataframe tbody tr th:only-of-type {\n",
       "        vertical-align: middle;\n",
       "    }\n",
       "\n",
       "    .dataframe tbody tr th {\n",
       "        vertical-align: top;\n",
       "    }\n",
       "\n",
       "    .dataframe thead th {\n",
       "        text-align: right;\n",
       "    }\n",
       "</style>\n",
       "<table border=\"1\" class=\"dataframe\">\n",
       "  <thead>\n",
       "    <tr style=\"text-align: right;\">\n",
       "      <th></th>\n",
       "      <th>address</th>\n",
       "      <th>address2</th>\n",
       "      <th>geo_lat</th>\n",
       "      <th>geo_lon</th>\n",
       "    </tr>\n",
       "  </thead>\n",
       "  <tbody>\n",
       "    <tr>\n",
       "      <th>0</th>\n",
       "      <td>г. Сергиев Посад, ул.Кооперативная, д.2</td>\n",
       "      <td>Московская обл, г Сергиев Посад, ул Кооперативная, д 2</td>\n",
       "      <td>56.301963</td>\n",
       "      <td>38.135828</td>\n",
       "    </tr>\n",
       "    <tr>\n",
       "      <th>1</th>\n",
       "      <td>г. Сергиев Посад, ул.Вознесенская, д.32а</td>\n",
       "      <td>Московская обл, г Сергиев Посад, ул Вознесенская, д 32А</td>\n",
       "      <td>56.303856</td>\n",
       "      <td>38.133214</td>\n",
       "    </tr>\n",
       "  </tbody>\n",
       "</table>\n",
       "</div>"
      ],
      "text/plain": [
       "                                    address  \\\n",
       "0   г. Сергиев Посад, ул.Кооперативная, д.2   \n",
       "1  г. Сергиев Посад, ул.Вознесенская, д.32а   \n",
       "\n",
       "                                                  address2    geo_lat  \\\n",
       "0   Московская обл, г Сергиев Посад, ул Кооперативная, д 2  56.301963   \n",
       "1  Московская обл, г Сергиев Посад, ул Вознесенская, д 32А  56.303856   \n",
       "\n",
       "     geo_lon  \n",
       "0  38.135828  \n",
       "1  38.133214  "
      ]
     },
     "execution_count": 104,
     "metadata": {},
     "output_type": "execute_result"
    }
   ],
   "source": [
    "df_mmo_geocoded.head(2)"
   ]
  },
  {
   "cell_type": "code",
   "execution_count": 107,
   "id": "c17a3b35-68e0-4517-bb85-5c2178c43d1e",
   "metadata": {},
   "outputs": [],
   "source": [
    "query=\"\"\"\n",
    "select\n",
    "a.*, b.*\n",
    "from df_mmo_geocoded a \n",
    "inner join rosbank_df_mmo b \n",
    "    on a.geo_lat between b.lat-0.2 and b.lat+0.2\n",
    "        and a.geo_lon between b.long-0.1 and b.long+0.1\n",
    "\"\"\""
   ]
  },
  {
   "cell_type": "code",
   "execution_count": 108,
   "id": "aa695a31-4d54-4566-8ed4-be1a0b44063b",
   "metadata": {},
   "outputs": [],
   "source": [
    "#Отработали подготовленный выше запрос\n",
    "df_cross=duckdb.sql(query).df()"
   ]
  },
  {
   "cell_type": "code",
   "execution_count": 113,
   "id": "94ad6b21-beec-4311-b251-6d2b699d46de",
   "metadata": {},
   "outputs": [
    {
     "name": "stderr",
     "output_type": "stream",
     "text": [
      "1559906it [02:53, 8997.62it/s]\n"
     ]
    }
   ],
   "source": [
    "#Считаем расстояния\n",
    "for i, row in tqdm(df_cross.iterrows()):\n",
    "    df_cross.loc[i, 'dist'] = geodesic((row['geo_lat'], row['geo_lon']), (row['lat'], row['long'])).m"
   ]
  },
  {
   "cell_type": "code",
   "execution_count": 117,
   "id": "b0fe97da-3488-405a-841d-ae664e555f97",
   "metadata": {},
   "outputs": [
    {
     "data": {
      "text/html": [
       "<div>\n",
       "<style scoped>\n",
       "    .dataframe tbody tr th:only-of-type {\n",
       "        vertical-align: middle;\n",
       "    }\n",
       "\n",
       "    .dataframe tbody tr th {\n",
       "        vertical-align: top;\n",
       "    }\n",
       "\n",
       "    .dataframe thead th {\n",
       "        text-align: right;\n",
       "    }\n",
       "</style>\n",
       "<table border=\"1\" class=\"dataframe\">\n",
       "  <thead>\n",
       "    <tr style=\"text-align: right;\">\n",
       "      <th></th>\n",
       "      <th>id</th>\n",
       "      <th>lat</th>\n",
       "      <th>long</th>\n",
       "      <th>region</th>\n",
       "    </tr>\n",
       "  </thead>\n",
       "  <tbody>\n",
       "    <tr>\n",
       "      <th>0</th>\n",
       "      <td>6993.0</td>\n",
       "      <td>56.367123</td>\n",
       "      <td>36.689711</td>\n",
       "      <td>Московская область</td>\n",
       "    </tr>\n",
       "    <tr>\n",
       "      <th>15</th>\n",
       "      <td>8382.0</td>\n",
       "      <td>56.339816</td>\n",
       "      <td>38.124635</td>\n",
       "      <td>Московская область</td>\n",
       "    </tr>\n",
       "    <tr>\n",
       "      <th>80</th>\n",
       "      <td>6840.0</td>\n",
       "      <td>56.325369</td>\n",
       "      <td>38.132972</td>\n",
       "      <td>Московская область</td>\n",
       "    </tr>\n",
       "    <tr>\n",
       "      <th>97</th>\n",
       "      <td>4920.0</td>\n",
       "      <td>56.316129</td>\n",
       "      <td>38.132532</td>\n",
       "      <td>Московская область</td>\n",
       "    </tr>\n",
       "    <tr>\n",
       "      <th>120</th>\n",
       "      <td>6026.0</td>\n",
       "      <td>56.316095</td>\n",
       "      <td>38.136844</td>\n",
       "      <td>Московская область</td>\n",
       "    </tr>\n",
       "  </tbody>\n",
       "</table>\n",
       "</div>"
      ],
      "text/plain": [
       "         id        lat       long              region\n",
       "0    6993.0  56.367123  36.689711  Московская область\n",
       "15   8382.0  56.339816  38.124635  Московская область\n",
       "80   6840.0  56.325369  38.132972  Московская область\n",
       "97   4920.0  56.316129  38.132532  Московская область\n",
       "120  6026.0  56.316095  38.136844  Московская область"
      ]
     },
     "execution_count": 117,
     "metadata": {},
     "output_type": "execute_result"
    }
   ],
   "source": [
    "df_objects=df_cross[df_cross.dist<100][['id','lat','long', 'region']].drop_duplicates()\n",
    "df_objects.head()"
   ]
  },
  {
   "cell_type": "code",
   "execution_count": 118,
   "id": "3619c130-8e43-4ea9-80a8-767e9cc4cfd7",
   "metadata": {},
   "outputs": [
    {
     "data": {
      "text/plain": [
       "610"
      ]
     },
     "execution_count": 118,
     "metadata": {},
     "output_type": "execute_result"
    }
   ],
   "source": [
    "len(df_objects)"
   ]
  },
  {
   "cell_type": "code",
   "execution_count": 120,
   "id": "0ae260fe-1840-469b-b613-7cfe68508dec",
   "metadata": {},
   "outputs": [
    {
     "data": {
      "text/html": [
       "<div>\n",
       "<style scoped>\n",
       "    .dataframe tbody tr th:only-of-type {\n",
       "        vertical-align: middle;\n",
       "    }\n",
       "\n",
       "    .dataframe tbody tr th {\n",
       "        vertical-align: top;\n",
       "    }\n",
       "\n",
       "    .dataframe thead th {\n",
       "        text-align: right;\n",
       "    }\n",
       "</style>\n",
       "<table border=\"1\" class=\"dataframe\">\n",
       "  <thead>\n",
       "    <tr style=\"text-align: right;\">\n",
       "      <th></th>\n",
       "      <th>region</th>\n",
       "      <th>cnt_atms</th>\n",
       "    </tr>\n",
       "  </thead>\n",
       "  <tbody>\n",
       "    <tr>\n",
       "      <th>0</th>\n",
       "      <td>Москва</td>\n",
       "      <td>457</td>\n",
       "    </tr>\n",
       "    <tr>\n",
       "      <th>1</th>\n",
       "      <td>Московская область</td>\n",
       "      <td>153</td>\n",
       "    </tr>\n",
       "  </tbody>\n",
       "</table>\n",
       "</div>"
      ],
      "text/plain": [
       "               region  cnt_atms\n",
       "0              Москва       457\n",
       "1  Московская область       153"
      ]
     },
     "execution_count": 120,
     "metadata": {},
     "output_type": "execute_result"
    }
   ],
   "source": [
    "df_objects.groupby('region')['id'].count().reset_index(name='cnt_atms')"
   ]
  },
  {
   "cell_type": "code",
   "execution_count": null,
   "id": "a411eabc-1467-4436-9b96-f826edbb733c",
   "metadata": {},
   "outputs": [],
   "source": []
  },
  {
   "cell_type": "code",
   "execution_count": null,
   "id": "b3419efa-e793-48a6-8616-d449641d6185",
   "metadata": {},
   "outputs": [],
   "source": []
  },
  {
   "cell_type": "code",
   "execution_count": null,
   "id": "5048d4fe-82b1-4fdc-8756-0f4232320355",
   "metadata": {},
   "outputs": [],
   "source": []
  }
 ],
 "metadata": {
  "kernelspec": {
   "display_name": "Python 3 (ipykernel)",
   "language": "python",
   "name": "python3"
  },
  "language_info": {
   "codemirror_mode": {
    "name": "ipython",
    "version": 3
   },
   "file_extension": ".py",
   "mimetype": "text/x-python",
   "name": "python",
   "nbconvert_exporter": "python",
   "pygments_lexer": "ipython3",
   "version": "3.11.5"
  }
 },
 "nbformat": 4,
 "nbformat_minor": 5
}
