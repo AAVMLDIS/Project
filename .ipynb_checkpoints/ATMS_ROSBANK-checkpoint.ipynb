{
 "cells": [
  {
   "cell_type": "code",
   "execution_count": 2,
   "id": "82e47447-301f-4f55-adbb-83a9cab622f3",
   "metadata": {},
   "outputs": [],
   "source": [
    "import pandas as pd\n",
    "from geopy.distance import geodesic\n",
    "import duckdb\n",
    "from tqdm import tqdm"
   ]
  },
  {
   "cell_type": "code",
   "execution_count": 62,
   "id": "d1135969-5fd3-40d3-a580-6d3222b5eef4",
   "metadata": {},
   "outputs": [],
   "source": [
    "import matplotlib\n",
    "from matplotlib import pyplot as plt\n",
    "%matplotlib inline"
   ]
  },
  {
   "cell_type": "code",
   "execution_count": 65,
   "id": "0c05e6a9-0e8f-456b-bf4b-716423d3986a",
   "metadata": {},
   "outputs": [],
   "source": [
    "import numpy as np"
   ]
  },
  {
   "cell_type": "code",
   "execution_count": 24,
   "id": "980934f7-316e-4c63-9c3e-2e60334e4f44",
   "metadata": {},
   "outputs": [],
   "source": [
    "pd.set_option('display.max_colwidth', None)"
   ]
  },
  {
   "cell_type": "code",
   "execution_count": 6,
   "id": "4cb0f7ef-ab34-401f-8319-8964152fd912",
   "metadata": {},
   "outputs": [],
   "source": [
    "#rosbank_df=pd.read_csv('Projects/Geo_Atms_Project/rosbank_happy_data_year/data/train.csv')\n",
    "rosbank_df=pd.read_csv('train.csv', index_col=0)"
   ]
  },
  {
   "cell_type": "code",
   "execution_count": 7,
   "id": "2b1f980f-890d-4480-84a4-2842a6f4263f",
   "metadata": {},
   "outputs": [
    {
     "data": {
      "text/html": [
       "<div>\n",
       "<style scoped>\n",
       "    .dataframe tbody tr th:only-of-type {\n",
       "        vertical-align: middle;\n",
       "    }\n",
       "\n",
       "    .dataframe tbody tr th {\n",
       "        vertical-align: top;\n",
       "    }\n",
       "\n",
       "    .dataframe thead th {\n",
       "        text-align: right;\n",
       "    }\n",
       "</style>\n",
       "<table border=\"1\" class=\"dataframe\">\n",
       "  <thead>\n",
       "    <tr style=\"text-align: right;\">\n",
       "      <th></th>\n",
       "      <th>id</th>\n",
       "      <th>atm_group</th>\n",
       "      <th>address</th>\n",
       "      <th>address_rus</th>\n",
       "      <th>lat</th>\n",
       "      <th>long</th>\n",
       "      <th>target</th>\n",
       "    </tr>\n",
       "  </thead>\n",
       "  <tbody>\n",
       "    <tr>\n",
       "      <th>0</th>\n",
       "      <td>8526.0</td>\n",
       "      <td>32.0</td>\n",
       "      <td>EMELYANOVA,34          Y-SAKHALINSK</td>\n",
       "      <td>улица А.О. Емельянова, 34, Южно-Сахалинск, Сах...</td>\n",
       "      <td>46.940995</td>\n",
       "      <td>142.738319</td>\n",
       "      <td>0.011500</td>\n",
       "    </tr>\n",
       "    <tr>\n",
       "      <th>1</th>\n",
       "      <td>8532.0</td>\n",
       "      <td>32.0</td>\n",
       "      <td>KOMSOMOLSKAYA,259B     Y.SAKHALINSK</td>\n",
       "      <td>Комсомольская улица, 259, Южно-Сахалинск, Саха...</td>\n",
       "      <td>46.937353</td>\n",
       "      <td>142.753348</td>\n",
       "      <td>0.029710</td>\n",
       "    </tr>\n",
       "    <tr>\n",
       "      <th>2</th>\n",
       "      <td>8533.0</td>\n",
       "      <td>32.0</td>\n",
       "      <td>KOMMUN. PR., 32        YUZHNO SAKHAL</td>\n",
       "      <td>Коммунистический проспект, Южно-Сахалинск, Сах...</td>\n",
       "      <td>46.959413</td>\n",
       "      <td>142.741113</td>\n",
       "      <td>0.009540</td>\n",
       "    </tr>\n",
       "    <tr>\n",
       "      <th>3</th>\n",
       "      <td>8684.0</td>\n",
       "      <td>32.0</td>\n",
       "      <td>LENINGRADSKIY PR.,76A  MOSCOW</td>\n",
       "      <td>Ленинградский проспект, 76А, Москва, Россия, 1...</td>\n",
       "      <td>55.805827</td>\n",
       "      <td>37.515146</td>\n",
       "      <td>-0.094035</td>\n",
       "    </tr>\n",
       "    <tr>\n",
       "      <th>4</th>\n",
       "      <td>37.0</td>\n",
       "      <td>32.0</td>\n",
       "      <td>GVARDEYSKAYA PL., 2    NORILSK</td>\n",
       "      <td>Гвардейская площадь, 2, Норильск, Красноярский...</td>\n",
       "      <td>69.343541</td>\n",
       "      <td>88.211228</td>\n",
       "      <td>0.079277</td>\n",
       "    </tr>\n",
       "  </tbody>\n",
       "</table>\n",
       "</div>"
      ],
      "text/plain": [
       "       id  atm_group                                 address  \\\n",
       "0  8526.0       32.0  EMELYANOVA,34          Y-SAKHALINSK      \n",
       "1  8532.0       32.0  KOMSOMOLSKAYA,259B     Y.SAKHALINSK      \n",
       "2  8533.0       32.0  KOMMUN. PR., 32        YUZHNO SAKHAL     \n",
       "3  8684.0       32.0  LENINGRADSKIY PR.,76A  MOSCOW            \n",
       "4    37.0       32.0  GVARDEYSKAYA PL., 2    NORILSK           \n",
       "\n",
       "                                         address_rus        lat        long  \\\n",
       "0  улица А.О. Емельянова, 34, Южно-Сахалинск, Сах...  46.940995  142.738319   \n",
       "1  Комсомольская улица, 259, Южно-Сахалинск, Саха...  46.937353  142.753348   \n",
       "2  Коммунистический проспект, Южно-Сахалинск, Сах...  46.959413  142.741113   \n",
       "3  Ленинградский проспект, 76А, Москва, Россия, 1...  55.805827   37.515146   \n",
       "4  Гвардейская площадь, 2, Норильск, Красноярский...  69.343541   88.211228   \n",
       "\n",
       "     target  \n",
       "0  0.011500  \n",
       "1  0.029710  \n",
       "2  0.009540  \n",
       "3 -0.094035  \n",
       "4  0.079277  "
      ]
     },
     "execution_count": 7,
     "metadata": {},
     "output_type": "execute_result"
    }
   ],
   "source": [
    "rosbank_df.head()"
   ]
  },
  {
   "cell_type": "code",
   "execution_count": 8,
   "id": "c8b5110c-44e1-4778-88d2-4fcfccd8e4c6",
   "metadata": {},
   "outputs": [],
   "source": [
    "rosbank_df=rosbank_df.dropna()"
   ]
  },
  {
   "cell_type": "code",
   "execution_count": 9,
   "id": "1fc1866f-e3ae-4316-bfb6-b1f063115496",
   "metadata": {},
   "outputs": [],
   "source": [
    "def get_region(x: str):\n",
    "    if x.split(',')[-1].lstrip().isdigit():\n",
    "        return x.split(',')[-3].lstrip()\n",
    "    else:\n",
    "        return x.split(',')[-2].lstrip()"
   ]
  },
  {
   "cell_type": "code",
   "execution_count": 10,
   "id": "313ab4b9-ca81-4f96-831e-10f5c1d229d5",
   "metadata": {},
   "outputs": [],
   "source": [
    "rosbank_df['region']=rosbank_df.address_rus.apply(\n",
    "    lambda x: get_region(x))"
   ]
  },
  {
   "cell_type": "code",
   "execution_count": 11,
   "id": "6c14767e-cf62-4c35-a066-4948d776ad92",
   "metadata": {},
   "outputs": [
    {
     "data": {
      "text/html": [
       "<div>\n",
       "<style scoped>\n",
       "    .dataframe tbody tr th:only-of-type {\n",
       "        vertical-align: middle;\n",
       "    }\n",
       "\n",
       "    .dataframe tbody tr th {\n",
       "        vertical-align: top;\n",
       "    }\n",
       "\n",
       "    .dataframe thead th {\n",
       "        text-align: right;\n",
       "    }\n",
       "</style>\n",
       "<table border=\"1\" class=\"dataframe\">\n",
       "  <thead>\n",
       "    <tr style=\"text-align: right;\">\n",
       "      <th></th>\n",
       "      <th>region</th>\n",
       "      <th>cnt_atms</th>\n",
       "    </tr>\n",
       "  </thead>\n",
       "  <tbody>\n",
       "    <tr>\n",
       "      <th>48</th>\n",
       "      <td>Москва</td>\n",
       "      <td>575</td>\n",
       "    </tr>\n",
       "    <tr>\n",
       "      <th>49</th>\n",
       "      <td>Московская область</td>\n",
       "      <td>321</td>\n",
       "    </tr>\n",
       "    <tr>\n",
       "      <th>67</th>\n",
       "      <td>Приморский край</td>\n",
       "      <td>206</td>\n",
       "    </tr>\n",
       "    <tr>\n",
       "      <th>91</th>\n",
       "      <td>Санкт-Петербург</td>\n",
       "      <td>194</td>\n",
       "    </tr>\n",
       "    <tr>\n",
       "      <th>82</th>\n",
       "      <td>Республика Татарстан</td>\n",
       "      <td>179</td>\n",
       "    </tr>\n",
       "    <tr>\n",
       "      <th>...</th>\n",
       "      <td>...</td>\n",
       "      <td>...</td>\n",
       "    </tr>\n",
       "    <tr>\n",
       "      <th>70</th>\n",
       "      <td>Республика Адыгея</td>\n",
       "      <td>4</td>\n",
       "    </tr>\n",
       "    <tr>\n",
       "      <th>69</th>\n",
       "      <td>Псковская область</td>\n",
       "      <td>2</td>\n",
       "    </tr>\n",
       "    <tr>\n",
       "      <th>24</th>\n",
       "      <td>Кабардино-Балкарская Республика</td>\n",
       "      <td>1</td>\n",
       "    </tr>\n",
       "    <tr>\n",
       "      <th>78</th>\n",
       "      <td>Республика Крым</td>\n",
       "      <td>1</td>\n",
       "    </tr>\n",
       "    <tr>\n",
       "      <th>119</th>\n",
       "      <td>Чукотский автономный округ</td>\n",
       "      <td>1</td>\n",
       "    </tr>\n",
       "  </tbody>\n",
       "</table>\n",
       "<p>123 rows × 2 columns</p>\n",
       "</div>"
      ],
      "text/plain": [
       "                              region  cnt_atms\n",
       "48                            Москва       575\n",
       "49                Московская область       321\n",
       "67                   Приморский край       206\n",
       "91                   Санкт-Петербург       194\n",
       "82              Республика Татарстан       179\n",
       "..                               ...       ...\n",
       "70                 Республика Адыгея         4\n",
       "69                 Псковская область         2\n",
       "24   Кабардино-Балкарская Республика         1\n",
       "78                   Республика Крым         1\n",
       "119       Чукотский автономный округ         1\n",
       "\n",
       "[123 rows x 2 columns]"
      ]
     },
     "execution_count": 11,
     "metadata": {},
     "output_type": "execute_result"
    }
   ],
   "source": [
    "rosbank_df.groupby('region')['id'].count().reset_index(name='cnt_atms').sort_values(by='cnt_atms', ascending=False)"
   ]
  },
  {
   "cell_type": "code",
   "execution_count": 12,
   "id": "c0b2e537-bfa1-4bba-8314-158148a227f2",
   "metadata": {},
   "outputs": [
    {
     "data": {
      "text/plain": [
       "array(['Сахалинская область', 'Москва', 'Красноярский край',\n",
       "       'Приморский край', 'Московская область', 'Пенза', 'Владимир',\n",
       "       'Тамбов', 'Республика Саха (Якутия)', 'Владимирская область',\n",
       "       'Калужская область', 'Республика Бурятия', 'Новосибирская область',\n",
       "       'Чувашская Республика', 'Омская область'], dtype=object)"
      ]
     },
     "execution_count": 12,
     "metadata": {},
     "output_type": "execute_result"
    }
   ],
   "source": [
    "rosbank_df.region.unique()[:15]"
   ]
  },
  {
   "cell_type": "code",
   "execution_count": 13,
   "id": "d00dcc73-5eba-4ad7-a30d-f6a16a67cd40",
   "metadata": {},
   "outputs": [],
   "source": [
    "all_atms_data=pd.read_csv('all_atms_data.csv')"
   ]
  },
  {
   "cell_type": "code",
   "execution_count": 14,
   "id": "541a962a-29ea-4201-ba8b-4e243ea47778",
   "metadata": {},
   "outputs": [
    {
     "data": {
      "text/html": [
       "<div>\n",
       "<style scoped>\n",
       "    .dataframe tbody tr th:only-of-type {\n",
       "        vertical-align: middle;\n",
       "    }\n",
       "\n",
       "    .dataframe tbody tr th {\n",
       "        vertical-align: top;\n",
       "    }\n",
       "\n",
       "    .dataframe thead th {\n",
       "        text-align: right;\n",
       "    }\n",
       "</style>\n",
       "<table border=\"1\" class=\"dataframe\">\n",
       "  <thead>\n",
       "    <tr style=\"text-align: right;\">\n",
       "      <th></th>\n",
       "      <th>address</th>\n",
       "      <th>bank_name</th>\n",
       "      <th>schedule</th>\n",
       "      <th>geo_lat</th>\n",
       "      <th>geo_lon</th>\n",
       "    </tr>\n",
       "  </thead>\n",
       "  <tbody>\n",
       "    <tr>\n",
       "      <th>0</th>\n",
       "      <td>г. Сергиев Посад, ул.Кооперативная, д.2</td>\n",
       "      <td>Авангард</td>\n",
       "      <td>Круглосуточно</td>\n",
       "      <td>56.301963</td>\n",
       "      <td>38.135828</td>\n",
       "    </tr>\n",
       "    <tr>\n",
       "      <th>1</th>\n",
       "      <td>г. Сергиев Посад, ул.Кооперативная, д.2</td>\n",
       "      <td>Банк ВТБ</td>\n",
       "      <td>Доступен в режиме работы места установки</td>\n",
       "      <td>56.301963</td>\n",
       "      <td>38.135828</td>\n",
       "    </tr>\n",
       "  </tbody>\n",
       "</table>\n",
       "</div>"
      ],
      "text/plain": [
       "                                   address bank_name  \\\n",
       "0  г. Сергиев Посад, ул.Кооперативная, д.2  Авангард   \n",
       "1  г. Сергиев Посад, ул.Кооперативная, д.2  Банк ВТБ   \n",
       "\n",
       "                                   schedule    geo_lat    geo_lon  \n",
       "0                             Круглосуточно  56.301963  38.135828  \n",
       "1  Доступен в режиме работы места установки  56.301963  38.135828  "
      ]
     },
     "execution_count": 14,
     "metadata": {},
     "output_type": "execute_result"
    }
   ],
   "source": [
    "all_atms_data.head(2)"
   ]
  },
  {
   "cell_type": "code",
   "execution_count": 15,
   "id": "c17a3b35-68e0-4517-bb85-5c2178c43d1e",
   "metadata": {},
   "outputs": [],
   "source": [
    "query=\"\"\"\n",
    "select\n",
    "a.*, b.*\n",
    "from all_atms_data a \n",
    "inner join rosbank_df b \n",
    "    on a.geo_lat between b.lat-0.2 and b.lat+0.2\n",
    "        and a.geo_lon between b.long-0.1 and b.long+0.1\n",
    "\"\"\""
   ]
  },
  {
   "cell_type": "code",
   "execution_count": 16,
   "id": "aa695a31-4d54-4566-8ed4-be1a0b44063b",
   "metadata": {},
   "outputs": [],
   "source": [
    "#Отработали подготовленный выше запрос\n",
    "df_cross=duckdb.sql(query).df()"
   ]
  },
  {
   "cell_type": "code",
   "execution_count": 19,
   "id": "94ad6b21-beec-4311-b251-6d2b699d46de",
   "metadata": {},
   "outputs": [
    {
     "name": "stderr",
     "output_type": "stream",
     "text": [
      "2673370it [04:54, 9064.37it/s]\n"
     ]
    }
   ],
   "source": [
    "#Считаем расстояния\n",
    "for i, row in tqdm(df_cross.iterrows()):\n",
    "    df_cross.loc[i, 'dist'] = geodesic((row['geo_lat'], row['geo_lon']), (row['lat'], row['long'])).m"
   ]
  },
  {
   "cell_type": "code",
   "execution_count": 50,
   "id": "6c1a49a0-6e17-4884-af15-e878d1a81fb2",
   "metadata": {},
   "outputs": [],
   "source": [
    "df_objects=df_cross.sort_values(by=['address', 'dist']).groupby('address').first().reset_index()"
   ]
  },
  {
   "cell_type": "code",
   "execution_count": 47,
   "id": "e81f1a24-45b1-496d-8bc3-06a2fafe3355",
   "metadata": {},
   "outputs": [
    {
     "data": {
      "text/plain": [
       "18075"
      ]
     },
     "execution_count": 47,
     "metadata": {},
     "output_type": "execute_result"
    }
   ],
   "source": [
    "all_atms_data.address.nunique()"
   ]
  },
  {
   "cell_type": "code",
   "execution_count": 51,
   "id": "cbe1c646-50e7-4fb4-bdde-97f90d3d9e86",
   "metadata": {},
   "outputs": [
    {
     "data": {
      "text/plain": [
       "18034"
      ]
     },
     "execution_count": 51,
     "metadata": {},
     "output_type": "execute_result"
    }
   ],
   "source": [
    "df_objects.address.nunique()"
   ]
  },
  {
   "cell_type": "code",
   "execution_count": 81,
   "id": "6fe4690a-4110-40f8-8e88-dc6be9fd9597",
   "metadata": {},
   "outputs": [],
   "source": [
    "x_arr=np.linspace(1, 1001, 50)\n",
    "cnt_lst=[]\n",
    "for d in x_arr:\n",
    "    cnt_lst.append(len(df_objects[df_objects.dist<d]))"
   ]
  },
  {
   "cell_type": "code",
   "execution_count": 89,
   "id": "cf049a93-4392-475d-9a25-5442876f14e8",
   "metadata": {},
   "outputs": [
    {
     "data": {
      "text/plain": [
       "Text(0, 0.5, 'Кол-во уникальных локаций банкоматов')"
      ]
     },
     "execution_count": 89,
     "metadata": {},
     "output_type": "execute_result"
    },
    {
     "data": {
      "image/png": "[encoded data removed]",
      "text/plain": [
       "<Figure size 1000x500 with 1 Axes>"
      ]
     },
     "metadata": {},
     "output_type": "display_data"
    }
   ],
   "source": [
    "plt.figure(figsize = (10, 5))\n",
    "plt.plot(x_arr, cnt_lst)\n",
    "\n",
    "plt.minorticks_on()\n",
    "plt.grid(which='both')\n",
    "\n",
    "plt.xlabel('Расстояние до ближайшего банкомата Росбанка')\n",
    "plt.ylabel('Кол-во уникальных локаций банкоматов')"
   ]
  },
  {
   "cell_type": "code",
   "execution_count": 93,
   "id": "d1c9d03e-a681-40ce-bd5f-314ba3cf336e",
   "metadata": {},
   "outputs": [],
   "source": [
    "df_objects_main=df_objects[df_objects.dist<400][['address', 'bank_name', 'schedule', 'geo_lat', 'geo_lon', 'dist', 'target']]"
   ]
  },
  {
   "cell_type": "code",
   "execution_count": 94,
   "id": "70dfec50-7c72-448c-95b1-4801688648cf",
   "metadata": {},
   "outputs": [
    {
     "data": {
      "text/html": [
       "<div>\n",
       "<style scoped>\n",
       "    .dataframe tbody tr th:only-of-type {\n",
       "        vertical-align: middle;\n",
       "    }\n",
       "\n",
       "    .dataframe tbody tr th {\n",
       "        vertical-align: top;\n",
       "    }\n",
       "\n",
       "    .dataframe thead th {\n",
       "        text-align: right;\n",
       "    }\n",
       "</style>\n",
       "<table border=\"1\" class=\"dataframe\">\n",
       "  <thead>\n",
       "    <tr style=\"text-align: right;\">\n",
       "      <th></th>\n",
       "      <th>address</th>\n",
       "      <th>bank_name</th>\n",
       "      <th>schedule</th>\n",
       "      <th>geo_lat</th>\n",
       "      <th>geo_lon</th>\n",
       "      <th>dist</th>\n",
       "      <th>target</th>\n",
       "    </tr>\n",
       "  </thead>\n",
       "  <tbody>\n",
       "    <tr>\n",
       "      <th>0</th>\n",
       "      <td>Московская обл. Железнодорожный Привокзальная пл. 2</td>\n",
       "      <td>Банк Уралсиб</td>\n",
       "      <td>00:00 - 00:00</td>\n",
       "      <td>55.751964</td>\n",
       "      <td>38.008929</td>\n",
       "      <td>229.351078</td>\n",
       "      <td>0.076268</td>\n",
       "    </tr>\n",
       "    <tr>\n",
       "      <th>7</th>\n",
       "      <td>Московская обл., аэропорт «Домодедово»</td>\n",
       "      <td>Московский Кредитный Банк</td>\n",
       "      <td>Круглосуточно</td>\n",
       "      <td>55.414279</td>\n",
       "      <td>37.900386</td>\n",
       "      <td>9.668460</td>\n",
       "      <td>0.086107</td>\n",
       "    </tr>\n",
       "    <tr>\n",
       "      <th>8</th>\n",
       "      <td>Московская обл., аэропорт «Домодедово», д.6</td>\n",
       "      <td>Банк ВТБ</td>\n",
       "      <td>Круглосуточно</td>\n",
       "      <td>55.414279</td>\n",
       "      <td>37.900386</td>\n",
       "      <td>9.668460</td>\n",
       "      <td>0.086107</td>\n",
       "    </tr>\n",
       "    <tr>\n",
       "      <th>10</th>\n",
       "      <td>Московская обл., аэропорт «Домодедово», стр. 1</td>\n",
       "      <td>Банк ВТБ</td>\n",
       "      <td>Круглосуточно</td>\n",
       "      <td>55.414279</td>\n",
       "      <td>37.900386</td>\n",
       "      <td>9.668460</td>\n",
       "      <td>0.086107</td>\n",
       "    </tr>\n",
       "    <tr>\n",
       "      <th>18</th>\n",
       "      <td>Московская обл., г. Люберцы, Октябрьский пр-кт, 146</td>\n",
       "      <td>Банк ВТБ</td>\n",
       "      <td>Круглосуточно</td>\n",
       "      <td>55.679862</td>\n",
       "      <td>37.889496</td>\n",
       "      <td>2.673837</td>\n",
       "      <td>0.015152</td>\n",
       "    </tr>\n",
       "  </tbody>\n",
       "</table>\n",
       "</div>"
      ],
      "text/plain": [
       "                                                address  \\\n",
       "0   Московская обл. Железнодорожный Привокзальная пл. 2   \n",
       "7                Московская обл., аэропорт «Домодедово»   \n",
       "8           Московская обл., аэропорт «Домодедово», д.6   \n",
       "10       Московская обл., аэропорт «Домодедово», стр. 1   \n",
       "18  Московская обл., г. Люберцы, Октябрьский пр-кт, 146   \n",
       "\n",
       "                    bank_name       schedule    geo_lat    geo_lon  \\\n",
       "0                Банк Уралсиб  00:00 - 00:00  55.751964  38.008929   \n",
       "7   Московский Кредитный Банк  Круглосуточно  55.414279  37.900386   \n",
       "8                    Банк ВТБ  Круглосуточно  55.414279  37.900386   \n",
       "10                   Банк ВТБ  Круглосуточно  55.414279  37.900386   \n",
       "18                   Банк ВТБ  Круглосуточно  55.679862  37.889496   \n",
       "\n",
       "          dist    target  \n",
       "0   229.351078  0.076268  \n",
       "7     9.668460  0.086107  \n",
       "8     9.668460  0.086107  \n",
       "10    9.668460  0.086107  \n",
       "18    2.673837  0.015152  "
      ]
     },
     "execution_count": 94,
     "metadata": {},
     "output_type": "execute_result"
    }
   ],
   "source": [
    "df_objects_main.head()"
   ]
  },
  {
   "cell_type": "code",
   "execution_count": 131,
   "id": "a411eabc-1467-4436-9b96-f826edbb733c",
   "metadata": {},
   "outputs": [
    {
     "data": {
      "text/html": [
       "<div>\n",
       "<style scoped>\n",
       "    .dataframe tbody tr th:only-of-type {\n",
       "        vertical-align: middle;\n",
       "    }\n",
       "\n",
       "    .dataframe tbody tr th {\n",
       "        vertical-align: top;\n",
       "    }\n",
       "\n",
       "    .dataframe thead th {\n",
       "        text-align: right;\n",
       "    }\n",
       "</style>\n",
       "<table border=\"1\" class=\"dataframe\">\n",
       "  <thead>\n",
       "    <tr style=\"text-align: right;\">\n",
       "      <th></th>\n",
       "      <th>address</th>\n",
       "      <th>bank_name</th>\n",
       "    </tr>\n",
       "  </thead>\n",
       "  <tbody>\n",
       "    <tr>\n",
       "      <th>10666</th>\n",
       "      <td>г. Новосибирск, ул.Ватутина, д.107</td>\n",
       "      <td>11</td>\n",
       "    </tr>\n",
       "    <tr>\n",
       "      <th>13385</th>\n",
       "      <td>г. Самара, просп. Кирова, д.147</td>\n",
       "      <td>10</td>\n",
       "    </tr>\n",
       "    <tr>\n",
       "      <th>3600</th>\n",
       "      <td>г. Краснодар, ул.Дзержинского, д.100</td>\n",
       "      <td>10</td>\n",
       "    </tr>\n",
       "    <tr>\n",
       "      <th>1811</th>\n",
       "      <td>г. Екатеринбург, ул.Академика Шварца, д.17</td>\n",
       "      <td>10</td>\n",
       "    </tr>\n",
       "    <tr>\n",
       "      <th>2116</th>\n",
       "      <td>г. Екатеринбург, ул.Металлургов, д.87</td>\n",
       "      <td>10</td>\n",
       "    </tr>\n",
       "    <tr>\n",
       "      <th>...</th>\n",
       "      <td>...</td>\n",
       "      <td>...</td>\n",
       "    </tr>\n",
       "    <tr>\n",
       "      <th>6398</th>\n",
       "      <td>г. Москва, ст.метро «Выхино»</td>\n",
       "      <td>1</td>\n",
       "    </tr>\n",
       "    <tr>\n",
       "      <th>6399</th>\n",
       "      <td>г. Москва, ст.метро «Дмитровская»</td>\n",
       "      <td>1</td>\n",
       "    </tr>\n",
       "    <tr>\n",
       "      <th>6400</th>\n",
       "      <td>г. Москва, ст.метро «Добрынинская»</td>\n",
       "      <td>1</td>\n",
       "    </tr>\n",
       "    <tr>\n",
       "      <th>6401</th>\n",
       "      <td>г. Москва, ст.метро «Домодедовская»</td>\n",
       "      <td>1</td>\n",
       "    </tr>\n",
       "    <tr>\n",
       "      <th>18074</th>\n",
       "      <td>г. Электросталь, ш.Фрязевское</td>\n",
       "      <td>1</td>\n",
       "    </tr>\n",
       "  </tbody>\n",
       "</table>\n",
       "<p>18075 rows × 2 columns</p>\n",
       "</div>"
      ],
      "text/plain": [
       "                                          address  bank_name\n",
       "10666          г. Новосибирск, ул.Ватутина, д.107         11\n",
       "13385             г. Самара, просп. Кирова, д.147         10\n",
       "3600         г. Краснодар, ул.Дзержинского, д.100         10\n",
       "1811   г. Екатеринбург, ул.Академика Шварца, д.17         10\n",
       "2116        г. Екатеринбург, ул.Металлургов, д.87         10\n",
       "...                                           ...        ...\n",
       "6398                 г. Москва, ст.метро «Выхино»          1\n",
       "6399            г. Москва, ст.метро «Дмитровская»          1\n",
       "6400           г. Москва, ст.метро «Добрынинская»          1\n",
       "6401          г. Москва, ст.метро «Домодедовская»          1\n",
       "18074               г. Электросталь, ш.Фрязевское          1\n",
       "\n",
       "[18075 rows x 2 columns]"
      ]
     },
     "execution_count": 131,
     "metadata": {},
     "output_type": "execute_result"
    }
   ],
   "source": [
    "all_atms_data.groupby('address')['bank_name'].count().reset_index().sort_values(by='bank_name', ascending=False)"
   ]
  },
  {
   "cell_type": "code",
   "execution_count": null,
   "id": "5048d4fe-82b1-4fdc-8756-0f4232320355",
   "metadata": {},
   "outputs": [],
   "source": []
  }
 ],
 "metadata": {
  "kernelspec": {
   "display_name": "Python 3 (ipykernel)",
   "language": "python",
   "name": "python3"
  },
  "language_info": {
   "codemirror_mode": {
    "name": "ipython",
    "version": 3
   },
   "file_extension": ".py",
   "mimetype": "text/x-python",
   "name": "python",
   "nbconvert_exporter": "python",
   "pygments_lexer": "ipython3",
   "version": "3.11.5"
  }
 },
 "nbformat": 4,
 "nbformat_minor": 5
}
