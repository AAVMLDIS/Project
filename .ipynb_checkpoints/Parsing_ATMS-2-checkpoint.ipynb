{
 "cells": [
  {
   "cell_type": "code",
   "execution_count": 1,
   "id": "4bb696d3-f24e-4e20-8110-3500c00f6bb2",
   "metadata": {},
   "outputs": [],
   "source": [
    "from transliterate import translit, get_available_language_codes\n",
    "import requests\n",
    "from bs4 import BeautifulSoup\n",
    "import pandas as pd\n",
    "from time import sleep\n",
    "\n",
    "import random\n",
    "import re\n",
    "import json"
   ]
  },
  {
   "cell_type": "code",
   "execution_count": 2,
   "id": "c310cdb2-bda6-4c02-ad24-6199c1ec844f",
   "metadata": {},
   "outputs": [],
   "source": [
    "pd.set_option('display.max_colwidth', 100)"
   ]
  },
  {
   "cell_type": "markdown",
   "id": "b85f16dc-e134-47ea-b479-893cea7d2823",
   "metadata": {
    "jp-MarkdownHeadingCollapsed": true
   },
   "source": [
    "# 1. Подмосковные города с населением от 40 тыс - готовим список (полуручник)"
   ]
  },
  {
   "cell_type": "code",
   "execution_count": null,
   "id": "416f9a13-f36f-4a87-abe0-ba8bf50222cb",
   "metadata": {},
   "outputs": [],
   "source": [
    "s=\"\"\"Балашиха - 197,7\n",
    "\n",
    "Егорьевск - 66,9\n",
    "\n",
    "Зарайск - 23,8\n",
    "\n",
    "Химки - 188,5\n",
    "\n",
    "Ступино - 65,9\n",
    "\n",
    "Волоколамск - 23,6\n",
    "\n",
    "Подольск - 183,1\n",
    "\n",
    "Дмитров - 63,3\n",
    "\n",
    "Лосино-Петровский - 22,4\n",
    "\n",
    "Королев - 176,0\n",
    "\n",
    "Дубна - 62,7\n",
    "\n",
    "Котельники - 21,8\n",
    "\n",
    "Мытищи - 164,6\n",
    "\n",
    "Павловский Посад - 61,8\n",
    "\n",
    "Старая Купавна - 21,2\n",
    "\n",
    "Люберцы - 158,2\n",
    "\n",
    "Ивантеевка - 57,2\n",
    "\n",
    "Электрогорск - 21,1\n",
    "\n",
    "Коломна - 148,4\n",
    "\n",
    "Солнечногорск - 57,1\n",
    "\n",
    "Рошаль - 21,0\n",
    "\n",
    "Электросталь - 146,4\n",
    "\n",
    "Климовск - 56,1\n",
    "\n",
    "Черноголовка - 20,5\n",
    "\n",
    "Железнодорожный - 128,5\n",
    "\n",
    "Видное - 55,1\n",
    "\n",
    "Пущино - 20,3\n",
    "\n",
    "Серпухов - 123,1\n",
    "\n",
    "Фрязино - 53,2\n",
    "\n",
    "Хотьково - 19,8\n",
    "\n",
    "Орехово-Зуево - 121,1\n",
    "\n",
    "Лыткарино - 52,1\n",
    "\n",
    "Электроугли - 19,6\n",
    "\n",
    "Ногинск - 115,9\n",
    "\n",
    "Дзержинский - 45,0\n",
    "\n",
    "Бронницы - 19,0\n",
    "\n",
    "Одинцово - 109,6\n",
    "\n",
    "Кашира - 39,1\n",
    "\n",
    "Апрелевка - 18,7\n",
    "\n",
    "Щелково - 108,1\n",
    "\n",
    "Троицк - 37,6\n",
    "\n",
    "Куровское - 18,5\n",
    "\n",
    "Сергиев Посад - 105,8\n",
    "\n",
    "Протвино - 37,2\n",
    "\n",
    "Голицыно - 17,5\n",
    "\n",
    "Жуковский - 104,8\n",
    "\n",
    "Краснознаменск - 33,8\n",
    "\n",
    "Московский - 15,6\n",
    "\n",
    "Красногорск - 104,2\n",
    "\n",
    "Юбилейный - 32,5\n",
    "\n",
    "Пересвет - 14,5\n",
    "\n",
    "Пушкино - 98,9\n",
    "\n",
    "Щербинка - 32,3\n",
    "\n",
    "Краснозаводск - 13,7\n",
    "\n",
    "Воскресенск - 90,8\n",
    "\n",
    "Истра - 32,0\n",
    "\n",
    "Руза - 13,1\n",
    "\n",
    "Домодедово - 89,8\n",
    "\n",
    "Луховицы - 31,8\n",
    "\n",
    "Яхрома - 13,1\n",
    "\n",
    "Догопрудный - 84,4\n",
    "\n",
    "Ликино-Дулево - 31,0\n",
    "\n",
    "Звенигород - 12,9\n",
    "\n",
    "Раменское - 83,7\n",
    "\n",
    "Шатура - 30,8\n",
    "\n",
    "Талдом - 12,3\n",
    "\n",
    "Реутов - 83,6\n",
    "\n",
    "Можайск - 30,2\n",
    "\n",
    "Дрезна - 11,5\n",
    "\n",
    "Клин - 80,3\n",
    "\n",
    "Дедовск - 28,2\n",
    "\n",
    "Высоковск - 10,7\n",
    "\n",
    "Чехов - 73,4\n",
    "\n",
    "Красноармейск - 26,3\n",
    "\n",
    "Ожерелье - 10,6\n",
    "\n",
    "Наро-Фоминск - 71,1\n",
    "\n",
    "Кубинка - 26,2\n",
    "\n",
    "Верея - 4,7\n",
    "\n",
    "Лобня - 71,0\n",
    "\n",
    "Озеры - 25,7\n",
    "\"\"\"\n"
   ]
  },
  {
   "cell_type": "code",
   "execution_count": null,
   "id": "4bed9539-bc58-4eea-baa3-5690747b945a",
   "metadata": {},
   "outputs": [],
   "source": [
    "s=s.replace(',','.')\n",
    "\n",
    "L2=[]\n",
    "for i,v in enumerate(s.split('\\n')):\n",
    "    if i%2==0:\n",
    "        L2.append(v)\n",
    "L3=[]\n",
    "for _ in L2:\n",
    "    L3.append(_.split('-'))"
   ]
  },
  {
   "cell_type": "code",
   "execution_count": 208,
   "id": "d5959765-67f1-4ab3-b804-2c646eff14b1",
   "metadata": {},
   "outputs": [],
   "source": [
    "for l in L3:\n",
    "    if len(l)>2:\n",
    "        print(l)"
   ]
  },
  {
   "cell_type": "code",
   "execution_count": null,
   "id": "51d39e4b-9c27-42ef-9366-22943025ad34",
   "metadata": {},
   "outputs": [],
   "source": [
    "L3.index(['Орехово', 'Зуево ', ' 121.1']), L3.index(['Ликино', 'Дулево ', ' 31.0'])"
   ]
  },
  {
   "cell_type": "code",
   "execution_count": null,
   "id": "6d9b3b3e-5e38-4e45-8e31-be22827b598b",
   "metadata": {},
   "outputs": [],
   "source": [
    "del(L3[8])\n",
    "del(L3[-5])\n",
    "del L3[60], L3[29]"
   ]
  },
  {
   "cell_type": "code",
   "execution_count": null,
   "id": "b014920a-55c9-4ce5-83c6-cadb26a1a893",
   "metadata": {},
   "outputs": [],
   "source": [
    "L3.append(['Наро-Фоминск', '71.1']), L3.append(['Орехово-Зуево ', ' 121.1'])"
   ]
  },
  {
   "cell_type": "code",
   "execution_count": null,
   "id": "61cc8128-970d-4d86-a2d3-a99b03ec8150",
   "metadata": {},
   "outputs": [],
   "source": [
    "df_mo_cities=pd.DataFrame(L3, columns=['city', 'population'])"
   ]
  },
  {
   "cell_type": "code",
   "execution_count": null,
   "id": "d33c1847-4d3c-4581-9c6d-b4a1e0550279",
   "metadata": {},
   "outputs": [],
   "source": [
    "df_mo_cities['city']=df_mo_cities['city'].apply(lambda x: x.rstrip())\n",
    "df_mo_cities['population']=df_mo_cities['population'].apply(lambda x: x.lstrip()).astype('float')\n",
    "\n",
    "df_mo_cities['city_eng']=df_mo_cities.city.apply(lambda x: translit(x, 'ru', reversed=True)\n",
    "                                                ).apply(lambda x: x.replace(\"'\", \"\"))"
   ]
  },
  {
   "cell_type": "code",
   "execution_count": null,
   "id": "3291402f-ddff-4ebd-b841-eb9a154fbb64",
   "metadata": {},
   "outputs": [],
   "source": [
    "cities_eng=df_mo_cities[df_mo_cities.population>=40].sort_values(by='population', ascending=False)['city_eng'].unique()\n",
    "cities_eng"
   ]
  },
  {
   "cell_type": "code",
   "execution_count": null,
   "id": "b6d4cd32-3016-4c83-bd59-1a6f69349abb",
   "metadata": {},
   "outputs": [],
   "source": [
    "d={}\n",
    "for c in cities_eng:\n",
    "    d[c]=str(requests.get(\"https://mainfin.ru/banki/poisk/bankomaty\"+f\"/{c}\"))\n",
    "\n",
    "L=[]\n",
    "for i in d.items():\n",
    "    L.append(i)\n",
    "\n",
    "df_resp=pd.DataFrame(L, columns=['city_eng','response'])"
   ]
  },
  {
   "cell_type": "code",
   "execution_count": 167,
   "id": "2b014fe7-d623-435f-9a81-cf0fc3b0d36e",
   "metadata": {},
   "outputs": [],
   "source": [
    "LL=[\n",
    "'https://mainfin.ru/banki/poisk/bankomaty/sergiev-posad',\n",
    "'https://mainfin.ru/banki/poisk/bankomaty/mitischi',\n",
    "'https://mainfin.ru/banki/poisk/bankomaty/luberci',\n",
    "'https://mainfin.ru/banki/poisk/bankomaty/zheleznodorozhniy',\n",
    "'https://mainfin.ru/banki/poisk/bankomaty/odincovo',\n",
    "'https://mainfin.ru/banki/poisk/bankomaty/zhukovskiy',\n",
    "'https://mainfin.ru/banki/poisk/bankomaty/dolgoprudniy',\n",
    "'https://mainfin.ru/banki/poisk/bankomaty/lobnya',\n",
    "'https://mainfin.ru/banki/poisk/bankomaty/moskovskaja-oblast-dubna',\n",
    "'https://mainfin.ru/banki/poisk/bankomaty/pavlovskiy-posad',\n",
    "'https://mainfin.ru/banki/poisk/bankomaty/moskovskaja-oblast-ivanteevka',\n",
    "'https://mainfin.ru/banki/poisk/bankomaty/fryazino',\n",
    "'https://mainfin.ru/banki/poisk/bankomaty/litkarino',\n",
    "'https://mainfin.ru/banki/poisk/bankomaty/dzerzhinskiy']"
   ]
  },
  {
   "cell_type": "code",
   "execution_count": null,
   "id": "400bed23-8ecd-44df-9541-c41bfc20a915",
   "metadata": {},
   "outputs": [],
   "source": [
    "for c in df_resp[df_resp.response=='<Response [200]>'].city_eng.unique():\n",
    "    LL.append(\"https://mainfin.ru/banki/poisk/bankomaty\"+f\"/{c}\")"
   ]
  },
  {
   "cell_type": "code",
   "execution_count": 33,
   "id": "a96f8189-8efe-4502-9c44-2c0fff3c9f07",
   "metadata": {},
   "outputs": [],
   "source": [
    "#для повторных прогрузок, чтобы не повторять сборку выше, берем список из аутпута ниже\n",
    "LL=['https://mainfin.ru/banki/poisk/bankomaty/sergiev-posad',\n",
    " 'https://mainfin.ru/banki/poisk/bankomaty/mitischi',\n",
    " 'https://mainfin.ru/banki/poisk/bankomaty/luberci',\n",
    " 'https://mainfin.ru/banki/poisk/bankomaty/zheleznodorozhniy',\n",
    " 'https://mainfin.ru/banki/poisk/bankomaty/odincovo',\n",
    " 'https://mainfin.ru/banki/poisk/bankomaty/zhukovskiy',\n",
    " 'https://mainfin.ru/banki/poisk/bankomaty/dolgoprudniy',\n",
    " 'https://mainfin.ru/banki/poisk/bankomaty/lobnya',\n",
    " 'https://mainfin.ru/banki/poisk/bankomaty/moskovskaja-oblast-dubna',\n",
    " 'https://mainfin.ru/banki/poisk/bankomaty/pavlovskiy-posad',\n",
    " 'https://mainfin.ru/banki/poisk/bankomaty/moskovskaja-oblast-ivanteevka',\n",
    " 'https://mainfin.ru/banki/poisk/bankomaty/fryazino',\n",
    " 'https://mainfin.ru/banki/poisk/bankomaty/litkarino',\n",
    " 'https://mainfin.ru/banki/poisk/bankomaty/dzerzhinskiy',\n",
    " 'https://mainfin.ru/banki/poisk/bankomaty/Balashiha',\n",
    " 'https://mainfin.ru/banki/poisk/bankomaty/Himki',\n",
    " 'https://mainfin.ru/banki/poisk/bankomaty/Podolsk',\n",
    " 'https://mainfin.ru/banki/poisk/bankomaty/Korolev',\n",
    " 'https://mainfin.ru/banki/poisk/bankomaty/Kolomna',\n",
    " 'https://mainfin.ru/banki/poisk/bankomaty/Elektrostal',\n",
    " 'https://mainfin.ru/banki/poisk/bankomaty/Serpuhov',\n",
    " 'https://mainfin.ru/banki/poisk/bankomaty/Orehovo-Zuevo',\n",
    " 'https://mainfin.ru/banki/poisk/bankomaty/Noginsk',\n",
    " 'https://mainfin.ru/banki/poisk/bankomaty/Schelkovo',\n",
    " 'https://mainfin.ru/banki/poisk/bankomaty/Krasnogorsk',\n",
    " 'https://mainfin.ru/banki/poisk/bankomaty/Voskresensk',\n",
    " 'https://mainfin.ru/banki/poisk/bankomaty/Domodedovo',\n",
    " 'https://mainfin.ru/banki/poisk/bankomaty/Ramenskoe',\n",
    " 'https://mainfin.ru/banki/poisk/bankomaty/Reutov',\n",
    " 'https://mainfin.ru/banki/poisk/bankomaty/Klin',\n",
    " 'https://mainfin.ru/banki/poisk/bankomaty/Chehov',\n",
    " 'https://mainfin.ru/banki/poisk/bankomaty/Naro-Fominsk',\n",
    " 'https://mainfin.ru/banki/poisk/bankomaty/Egorevsk',\n",
    " 'https://mainfin.ru/banki/poisk/bankomaty/Stupino',\n",
    " 'https://mainfin.ru/banki/poisk/bankomaty/Dmitrov',\n",
    " 'https://mainfin.ru/banki/poisk/bankomaty/Solnechnogorsk',\n",
    " 'https://mainfin.ru/banki/poisk/bankomaty/Klimovsk',\n",
    " 'https://mainfin.ru/banki/poisk/bankomaty/Vidnoe']"
   ]
  },
  {
   "cell_type": "markdown",
   "id": "ab279c13-806d-4709-a3a7-5a00d95fbaf2",
   "metadata": {
    "jp-MarkdownHeadingCollapsed": true
   },
   "source": [
    "# 2. По готовому списку url городов собираем инфо о банкоматах со всех страниц  для каждого города"
   ]
  },
  {
   "cell_type": "code",
   "execution_count": 23,
   "id": "acf56da3-1701-4033-81eb-e46a5e65c987",
   "metadata": {
    "scrolled": true
   },
   "outputs": [],
   "source": [
    "adr=[]\n",
    "bank_name=[]\n",
    "schedule=[]\n",
    "for u in LL:\n",
    "    response=requests.get(u)\n",
    "    soupB = BeautifulSoup(response.text, 'html', multi_valued_attributes=None)\n",
    "    \n",
    "    #Смотрим сколько банкоматов в городе (нужно для определения кол-ва страниц на город (20 банкоматов на 1 странице)\n",
    "    s_count=soupB.findAll('label', {'class':\"mapobject-count\"})[0].get_text()\n",
    "    s_count=int(''.join(re.findall(r'\\d', s_count)))\n",
    "    n_pages=s_count//20\n",
    "\n",
    "    for p in range(1, n_pages):\n",
    "        url=u+\"?page={}\".format(p)\n",
    "        page=requests.get(url)\n",
    "        soup = BeautifulSoup(page.text, 'html', multi_valued_attributes=None)\n",
    "    \n",
    "        for _ in soup.find_all('a', {'class':'bank small'}):\n",
    "            bank_name.append(_.get_text())\n",
    "    \n",
    "        for _ in soup.find_all('a', {'class':'address pm'}):\n",
    "            adr.append(_.get_text().replace('\\xa0', ''))\n",
    "    \n",
    "        for _ in soup.find_all('td', {'class':'col-sm-3'}):\n",
    "            schedule.append(_.get_text())\n",
    "    \n",
    "        sleep(random.random())\n",
    "        \n",
    "    sleep(random.random())"
   ]
  },
  {
   "cell_type": "code",
   "execution_count": 24,
   "id": "76b500bf-5040-43ba-a163-594144ab4890",
   "metadata": {},
   "outputs": [],
   "source": [
    "df=pd.DataFrame(zip(adr, bank_name, schedule), columns=['address','bank_name','schedule'])"
   ]
  },
  {
   "cell_type": "code",
   "execution_count": 25,
   "id": "120f128c-d9c3-4d62-88e8-5af4e687e0de",
   "metadata": {},
   "outputs": [
    {
     "data": {
      "text/html": [
       "<div>\n",
       "<style scoped>\n",
       "    .dataframe tbody tr th:only-of-type {\n",
       "        vertical-align: middle;\n",
       "    }\n",
       "\n",
       "    .dataframe tbody tr th {\n",
       "        vertical-align: top;\n",
       "    }\n",
       "\n",
       "    .dataframe thead th {\n",
       "        text-align: right;\n",
       "    }\n",
       "</style>\n",
       "<table border=\"1\" class=\"dataframe\">\n",
       "  <thead>\n",
       "    <tr style=\"text-align: right;\">\n",
       "      <th></th>\n",
       "      <th>address</th>\n",
       "      <th>bank_name</th>\n",
       "      <th>schedule</th>\n",
       "    </tr>\n",
       "  </thead>\n",
       "  <tbody>\n",
       "    <tr>\n",
       "      <th>0</th>\n",
       "      <td>г. Сергиев Посад, ул.Кооперативная, д.2</td>\n",
       "      <td>Авангард</td>\n",
       "      <td>Круглосуточно</td>\n",
       "    </tr>\n",
       "    <tr>\n",
       "      <th>1</th>\n",
       "      <td>г. Сергиев Посад, ул.Вознесенская, д.32а</td>\n",
       "      <td>Банк Уралсиб</td>\n",
       "      <td>Круглосуточно</td>\n",
       "    </tr>\n",
       "    <tr>\n",
       "      <th>2</th>\n",
       "      <td>г. Сергиев Посад, ул.1-й Ударной Армии, д.12</td>\n",
       "      <td>Банк Уралсиб</td>\n",
       "      <td>Круглосуточно</td>\n",
       "    </tr>\n",
       "    <tr>\n",
       "      <th>3</th>\n",
       "      <td>г. Сергиев Посад, просп. Красной Армии, д.4</td>\n",
       "      <td>Банк Уралсиб</td>\n",
       "      <td>Круглосуточно</td>\n",
       "    </tr>\n",
       "    <tr>\n",
       "      <th>4</th>\n",
       "      <td>г. Сергиев Посад, ш.Новоугличское, д.46</td>\n",
       "      <td>Банк «Открытие»</td>\n",
       "      <td>Круглосуточно</td>\n",
       "    </tr>\n",
       "  </tbody>\n",
       "</table>\n",
       "</div>"
      ],
      "text/plain": [
       "                                        address        bank_name  \\\n",
       "0       г. Сергиев Посад, ул.Кооперативная, д.2         Авангард   \n",
       "1      г. Сергиев Посад, ул.Вознесенская, д.32а     Банк Уралсиб   \n",
       "2  г. Сергиев Посад, ул.1-й Ударной Армии, д.12     Банк Уралсиб   \n",
       "3   г. Сергиев Посад, просп. Красной Армии, д.4     Банк Уралсиб   \n",
       "4       г. Сергиев Посад, ш.Новоугличское, д.46  Банк «Открытие»   \n",
       "\n",
       "        schedule  \n",
       "0  Круглосуточно  \n",
       "1  Круглосуточно  \n",
       "2  Круглосуточно  \n",
       "3  Круглосуточно  \n",
       "4  Круглосуточно  "
      ]
     },
     "execution_count": 25,
     "metadata": {},
     "output_type": "execute_result"
    }
   ],
   "source": [
    "df.head()"
   ]
  },
  {
   "cell_type": "code",
   "execution_count": 17,
   "id": "28550ddd-f8ac-4f07-aed5-928facc26944",
   "metadata": {
    "scrolled": true
   },
   "outputs": [],
   "source": [
    "u='https://mainfin.ru/banki/poisk/bankomaty/moskva'\n",
    "\n",
    "adr=[]\n",
    "bank_name=[]\n",
    "schedule=[]\n",
    "\n",
    "response=requests.get(u)\n",
    "soupB = BeautifulSoup(response.text, 'html', multi_valued_attributes=None)\n",
    "\n",
    "#Смотрим сколько банкоматов в городе (нужно для определения кол-ва страниц на город (20 банкоматов на 1 странице)\n",
    "s_count=soupB.findAll('label', {'class':\"mapobject-count\"})[0].get_text()\n",
    "s_count=int(''.join(re.findall(r'\\d', s_count)))\n",
    "n_pages=s_count//20\n",
    "\n",
    "for p in range(1, n_pages):\n",
    "    url=u+\"?page={}\".format(p)\n",
    "    page=requests.get(url)\n",
    "    soup = BeautifulSoup(page.text, 'html', multi_valued_attributes=None)\n",
    "\n",
    "    for _ in soup.find_all('a', {'class':'bank small'}):\n",
    "        bank_name.append(_.get_text())\n",
    "\n",
    "    for _ in soup.find_all('a', {'class':'address pm'}):\n",
    "        adr.append(_.get_text().replace('\\xa0', ''))\n",
    "\n",
    "    for _ in soup.find_all('td', {'class':'col-sm-3'}):\n",
    "        schedule.append(_.get_text())\n",
    "\n",
    "    sleep(random.random())\n"
   ]
  },
  {
   "cell_type": "code",
   "execution_count": 18,
   "id": "733e0130-9882-44af-bb23-9616225b7656",
   "metadata": {},
   "outputs": [],
   "source": [
    "df_msk=pd.DataFrame(zip(adr, bank_name, schedule), columns=['address','bank_name','schedule'])"
   ]
  },
  {
   "cell_type": "code",
   "execution_count": 20,
   "id": "0758dbb5-e682-4a05-b8bb-34da36966a2e",
   "metadata": {},
   "outputs": [
    {
     "data": {
      "text/html": [
       "<div>\n",
       "<style scoped>\n",
       "    .dataframe tbody tr th:only-of-type {\n",
       "        vertical-align: middle;\n",
       "    }\n",
       "\n",
       "    .dataframe tbody tr th {\n",
       "        vertical-align: top;\n",
       "    }\n",
       "\n",
       "    .dataframe thead th {\n",
       "        text-align: right;\n",
       "    }\n",
       "</style>\n",
       "<table border=\"1\" class=\"dataframe\">\n",
       "  <thead>\n",
       "    <tr style=\"text-align: right;\">\n",
       "      <th></th>\n",
       "      <th>address</th>\n",
       "      <th>bank_name</th>\n",
       "      <th>schedule</th>\n",
       "    </tr>\n",
       "  </thead>\n",
       "  <tbody>\n",
       "    <tr>\n",
       "      <th>0</th>\n",
       "      <td>г. Москва, просп. Кутузовский, д.24</td>\n",
       "      <td>Абсолют Банк</td>\n",
       "      <td>Круглосуточно</td>\n",
       "    </tr>\n",
       "    <tr>\n",
       "      <th>1</th>\n",
       "      <td>г. Москва, ул.Садовая-Черногрязская, д.3 Б, ст...</td>\n",
       "      <td>Абсолют Банк</td>\n",
       "      <td>Круглосуточно</td>\n",
       "    </tr>\n",
       "    <tr>\n",
       "      <th>2</th>\n",
       "      <td>г. Москва, просп. Ленинградский, д.33, корп. 3</td>\n",
       "      <td>Абсолют Банк</td>\n",
       "      <td>Круглосуточно</td>\n",
       "    </tr>\n",
       "    <tr>\n",
       "      <th>3</th>\n",
       "      <td>г. Москва, ул.Люблинская, д.165</td>\n",
       "      <td>Абсолют Банк</td>\n",
       "      <td>Круглосуточно</td>\n",
       "    </tr>\n",
       "    <tr>\n",
       "      <th>4</th>\n",
       "      <td>г. Москва, ул.Южнобутовская, д.61</td>\n",
       "      <td>Абсолют Банк</td>\n",
       "      <td>Доступен в режиме работы места установки</td>\n",
       "    </tr>\n",
       "  </tbody>\n",
       "</table>\n",
       "</div>"
      ],
      "text/plain": [
       "                                             address     bank_name  \\\n",
       "0                г. Москва, просп. Кутузовский, д.24  Абсолют Банк   \n",
       "1  г. Москва, ул.Садовая-Черногрязская, д.3 Б, ст...  Абсолют Банк   \n",
       "2     г. Москва, просп. Ленинградский, д.33, корп. 3  Абсолют Банк   \n",
       "3                    г. Москва, ул.Люблинская, д.165  Абсолют Банк   \n",
       "4                  г. Москва, ул.Южнобутовская, д.61  Абсолют Банк   \n",
       "\n",
       "                                   schedule  \n",
       "0                             Круглосуточно  \n",
       "1                             Круглосуточно  \n",
       "2                             Круглосуточно  \n",
       "3                             Круглосуточно  \n",
       "4  Доступен в режиме работы места установки  "
      ]
     },
     "execution_count": 20,
     "metadata": {},
     "output_type": "execute_result"
    }
   ],
   "source": [
    "df_msk.head()"
   ]
  },
  {
   "cell_type": "code",
   "execution_count": 30,
   "id": "5d2b9414-c5d0-456a-a971-e933609625fd",
   "metadata": {},
   "outputs": [],
   "source": [
    "df_MMO=pd.concat([df, df_msk], ignore_index=True)"
   ]
  },
  {
   "cell_type": "code",
   "execution_count": 32,
   "id": "7d97a0e4-538b-4e45-b280-62d4fdf7733c",
   "metadata": {},
   "outputs": [],
   "source": [
    "df_MMO.to_csv('atms_MMO.csv', index=False)"
   ]
  },
  {
   "cell_type": "markdown",
   "id": "57b07ef9-804e-4000-94b1-4091b6680f1d",
   "metadata": {},
   "source": [
    "# 3. Добавляем данные по городам-миллионникам и геокодируем их"
   ]
  },
  {
   "cell_type": "code",
   "execution_count": 11,
   "id": "7340284a-aba1-4de7-99d0-37d8346724db",
   "metadata": {},
   "outputs": [],
   "source": [
    "mln_s=\"\"\"\n",
    "1.Москва (13 010 112);\n",
    "2.Санкт-Петербург (5 601 911);\n",
    "3.Новосибирск (1 633 595);\n",
    "4.Екатеринбург (1 588 665);\n",
    "5.Казань (1 308 660);\n",
    "6.Нижний Новгород (1 249 861);\n",
    "7.Челябинск (1 189 525);\n",
    "8.Красноярск (1 188 533);\n",
    "9.Самара (1 173 393);\n",
    "10.Уфа (1 144 809);\n",
    "11.Ростов-на-Дону (1 142 162);\n",
    "12.Омск (1 125 695);\n",
    "13.Краснодар (1 204 878);\n",
    "14.Воронеж (1 057 681);\n",
    "15.Волгоград (1 028 036);\n",
    "16.Пермь (1 034 006)\n",
    "\"\"\""
   ]
  },
  {
   "cell_type": "code",
   "execution_count": null,
   "id": "458fb787-115f-480b-9e40-5ee3cb21e8a3",
   "metadata": {
    "scrolled": true
   },
   "outputs": [],
   "source": [
    "mln_lst_rus=re.sub('[^а-яА-Я -]', '', mln_s).split()\n",
    "mln_lst_rus"
   ]
  },
  {
   "cell_type": "code",
   "execution_count": null,
   "id": "4c45be86-8829-4ba4-96e4-f2d316e8bcb5",
   "metadata": {},
   "outputs": [],
   "source": [
    "mln_lst_eng_translit=[str.lower(translit(x, 'ru', reversed=True)) for x in mln_lst_rus]\n",
    "mln_lst_eng_translit"
   ]
  },
  {
   "cell_type": "code",
   "execution_count": 22,
   "id": "0a70ee2e-1e52-46c3-97ea-f43f54c24873",
   "metadata": {},
   "outputs": [],
   "source": [
    "mln_lst_eng=[\n",
    "'sankt-peterburg',\n",
    "'novosibirsk',\n",
    "'ekaterinburg',\n",
    "\"kazan\",\n",
    "'nizhniy-novgorod',\n",
    "'chelyabinsk',\n",
    "'krasnoyarsk',\n",
    "'samara',\n",
    "'ufa',\n",
    "'rostov-na-donu',\n",
    "'omsk',\n",
    "'krasnodar',\n",
    "'voronezh',\n",
    "'volgograd',\n",
    "'perm']"
   ]
  },
  {
   "cell_type": "code",
   "execution_count": 23,
   "id": "c055efb6-0a9f-4171-9726-ac12390a14e2",
   "metadata": {},
   "outputs": [],
   "source": [
    "d={}\n",
    "for c in mln_lst_eng:\n",
    "    d[c]=str(requests.get(\"https://mainfin.ru/banki/poisk/bankomaty\"+f\"/{c}\"))\n",
    "\n",
    "L=[]\n",
    "for i in d.items():\n",
    "    L.append(i)\n",
    "\n",
    "df_resp_mln=pd.DataFrame(L, columns=['city_eng','response'])"
   ]
  },
  {
   "cell_type": "code",
   "execution_count": 26,
   "id": "2712e1b1-b5ca-4a8e-970b-0c5dc8182c23",
   "metadata": {},
   "outputs": [],
   "source": [
    "LL=[]\n",
    "for c in df_resp_mln[df_resp_mln.response=='<Response [200]>'].city_eng.unique():\n",
    "    LL.append(\"https://mainfin.ru/banki/poisk/bankomaty\"+f\"/{c}\")"
   ]
  },
  {
   "cell_type": "code",
   "execution_count": 27,
   "id": "cdc8bdc7-bfb0-4458-bb6d-f2a228cbbd36",
   "metadata": {},
   "outputs": [
    {
     "data": {
      "text/plain": [
       "['https://mainfin.ru/banki/poisk/bankomaty/sankt-peterburg',\n",
       " 'https://mainfin.ru/banki/poisk/bankomaty/novosibirsk',\n",
       " 'https://mainfin.ru/banki/poisk/bankomaty/ekaterinburg',\n",
       " 'https://mainfin.ru/banki/poisk/bankomaty/kazan',\n",
       " 'https://mainfin.ru/banki/poisk/bankomaty/nizhniy-novgorod',\n",
       " 'https://mainfin.ru/banki/poisk/bankomaty/chelyabinsk',\n",
       " 'https://mainfin.ru/banki/poisk/bankomaty/krasnoyarsk',\n",
       " 'https://mainfin.ru/banki/poisk/bankomaty/samara',\n",
       " 'https://mainfin.ru/banki/poisk/bankomaty/ufa',\n",
       " 'https://mainfin.ru/banki/poisk/bankomaty/rostov-na-donu',\n",
       " 'https://mainfin.ru/banki/poisk/bankomaty/omsk',\n",
       " 'https://mainfin.ru/banki/poisk/bankomaty/krasnodar',\n",
       " 'https://mainfin.ru/banki/poisk/bankomaty/voronezh',\n",
       " 'https://mainfin.ru/banki/poisk/bankomaty/volgograd',\n",
       " 'https://mainfin.ru/banki/poisk/bankomaty/perm']"
      ]
     },
     "execution_count": 27,
     "metadata": {},
     "output_type": "execute_result"
    }
   ],
   "source": [
    "LL"
   ]
  },
  {
   "cell_type": "code",
   "execution_count": 28,
   "id": "188c9f4a-3950-4f5c-b320-95710ce2706c",
   "metadata": {},
   "outputs": [],
   "source": [
    "adr=[]\n",
    "bank_name=[]\n",
    "schedule=[]\n",
    "for u in LL:\n",
    "    response=requests.get(u)\n",
    "    soupB = BeautifulSoup(response.text, 'html', multi_valued_attributes=None)\n",
    "    \n",
    "    #Смотрим сколько банкоматов в городе (нужно для определения кол-ва страниц на город (20 банкоматов на 1 странице)\n",
    "    s_count=soupB.findAll('label', {'class':\"mapobject-count\"})[0].get_text()\n",
    "    s_count=int(''.join(re.findall(r'\\d', s_count)))\n",
    "    n_pages=s_count//20\n",
    "\n",
    "    for p in range(1, n_pages):\n",
    "        url=u+\"?page={}\".format(p)\n",
    "        page=requests.get(url)\n",
    "        soup = BeautifulSoup(page.text, 'html', multi_valued_attributes=None)\n",
    "    \n",
    "        for _ in soup.find_all('a', {'class':'bank small'}):\n",
    "            bank_name.append(_.get_text())\n",
    "    \n",
    "        for _ in soup.find_all('a', {'class':'address pm'}):\n",
    "            adr.append(_.get_text().replace('\\xa0', ''))\n",
    "    \n",
    "        for _ in soup.find_all('td', {'class':'col-sm-3'}):\n",
    "            schedule.append(_.get_text())\n",
    "    \n",
    "        sleep(random.random())\n",
    "        \n",
    "    sleep(random.random())"
   ]
  },
  {
   "cell_type": "code",
   "execution_count": 33,
   "id": "6d65a8ad-7afa-48fa-aaeb-80d3d86c891d",
   "metadata": {},
   "outputs": [],
   "source": [
    "df_mln=pd.DataFrame(zip(adr, bank_name, schedule), columns=['address','bank_name','schedule'])"
   ]
  },
  {
   "cell_type": "code",
   "execution_count": 116,
   "id": "bb19476d-a422-4a28-b02a-cd0cfaeefa31",
   "metadata": {},
   "outputs": [
    {
     "data": {
      "text/html": [
       "<div>\n",
       "<style scoped>\n",
       "    .dataframe tbody tr th:only-of-type {\n",
       "        vertical-align: middle;\n",
       "    }\n",
       "\n",
       "    .dataframe tbody tr th {\n",
       "        vertical-align: top;\n",
       "    }\n",
       "\n",
       "    .dataframe thead th {\n",
       "        text-align: right;\n",
       "    }\n",
       "</style>\n",
       "<table border=\"1\" class=\"dataframe\">\n",
       "  <thead>\n",
       "    <tr style=\"text-align: right;\">\n",
       "      <th></th>\n",
       "      <th>address</th>\n",
       "      <th>bank_name</th>\n",
       "      <th>schedule</th>\n",
       "      <th>city</th>\n",
       "    </tr>\n",
       "  </thead>\n",
       "  <tbody>\n",
       "    <tr>\n",
       "      <th>0</th>\n",
       "      <td>г. Санкт-Петербург, ул.Ивановская, д.8/77</td>\n",
       "      <td>Абсолют Банк</td>\n",
       "      <td>Круглосуточно</td>\n",
       "      <td>г. Санкт-Петербург</td>\n",
       "    </tr>\n",
       "    <tr>\n",
       "      <th>1</th>\n",
       "      <td>г. Санкт-Петербург, ул.Ефимова, д.3</td>\n",
       "      <td>Абсолют Банк</td>\n",
       "      <td>Круглосуточно</td>\n",
       "      <td>г. Санкт-Петербург</td>\n",
       "    </tr>\n",
       "    <tr>\n",
       "      <th>2</th>\n",
       "      <td>г. Санкт-Петербург, ул.Типанова, д.21</td>\n",
       "      <td>Абсолют Банк</td>\n",
       "      <td>Круглосуточно</td>\n",
       "      <td>г. Санкт-Петербург</td>\n",
       "    </tr>\n",
       "    <tr>\n",
       "      <th>3</th>\n",
       "      <td>г. Санкт-Петербург, наб. реки Фонтанки, д.59</td>\n",
       "      <td>Абсолют Банк</td>\n",
       "      <td>Круглосуточно</td>\n",
       "      <td>г. Санкт-Петербург</td>\n",
       "    </tr>\n",
       "    <tr>\n",
       "      <th>4</th>\n",
       "      <td>г. Санкт-Петербург, 9-я линия В.О., д.44</td>\n",
       "      <td>Абсолют Банк</td>\n",
       "      <td>Доступен в режиме работы места установки</td>\n",
       "      <td>г. Санкт-Петербург</td>\n",
       "    </tr>\n",
       "  </tbody>\n",
       "</table>\n",
       "</div>"
      ],
      "text/plain": [
       "                                        address     bank_name  \\\n",
       "0     г. Санкт-Петербург, ул.Ивановская, д.8/77  Абсолют Банк   \n",
       "1           г. Санкт-Петербург, ул.Ефимова, д.3  Абсолют Банк   \n",
       "2         г. Санкт-Петербург, ул.Типанова, д.21  Абсолют Банк   \n",
       "3  г. Санкт-Петербург, наб. реки Фонтанки, д.59  Абсолют Банк   \n",
       "4      г. Санкт-Петербург, 9-я линия В.О., д.44  Абсолют Банк   \n",
       "\n",
       "                                   schedule                city  \n",
       "0                             Круглосуточно  г. Санкт-Петербург  \n",
       "1                             Круглосуточно  г. Санкт-Петербург  \n",
       "2                             Круглосуточно  г. Санкт-Петербург  \n",
       "3                             Круглосуточно  г. Санкт-Петербург  \n",
       "4  Доступен в режиме работы места установки  г. Санкт-Петербург  "
      ]
     },
     "execution_count": 116,
     "metadata": {},
     "output_type": "execute_result"
    }
   ],
   "source": [
    "df_mln.head()"
   ]
  },
  {
   "cell_type": "code",
   "execution_count": 117,
   "id": "3d8505c1-49ee-4404-bb72-9005c43c9a43",
   "metadata": {},
   "outputs": [
    {
     "data": {
      "text/plain": [
       "15166"
      ]
     },
     "execution_count": 117,
     "metadata": {},
     "output_type": "execute_result"
    }
   ],
   "source": [
    "len(df_mln)"
   ]
  },
  {
   "cell_type": "code",
   "execution_count": 47,
   "id": "f13391c6-5fa9-46c4-86e8-fa43d358af08",
   "metadata": {},
   "outputs": [],
   "source": [
    "df_mln['city'] = df_mln.address.apply(lambda x: x.split(', ')[0])"
   ]
  },
  {
   "cell_type": "code",
   "execution_count": 50,
   "id": "24cdad12-fffd-44e6-9cee-ecb3343e2249",
   "metadata": {},
   "outputs": [
    {
     "data": {
      "text/plain": [
       "city\n",
       "г. Санкт-Петербург                3251\n",
       "г. Екатеринбург                   1340\n",
       "г. Новосибирск                    1320\n",
       "г. Челябинск                       940\n",
       "г. Омск                            919\n",
       "г. Казань                          914\n",
       "г. Красноярск                      839\n",
       "г. Краснодар                       820\n",
       "г. Нижний Новгород                 820\n",
       "г. Уфа                             819\n",
       "г. Ростов-на-Дону                  739\n",
       "г. Пермь                           686\n",
       "г. Самара                          677\n",
       "г. Волгоград                       540\n",
       "г. Воронеж                         519\n",
       "Санкт-Петербург                      7\n",
       "Республика Татарстан                 5\n",
       "г. Cанкт-Петербург                   2\n",
       "Самарская обл.                       2\n",
       "Самарская область                    1\n",
       "г. Красноярск ул.Баумана             1\n",
       "Республика Башкортостан              1\n",
       "г. Казань ул.Академика Глушко        1\n",
       "г. Ростов-на Дону                    1\n",
       "г. Оренбург                          1\n",
       "г. Воронеж ул.20-летия Октября       1\n",
       "Name: count, dtype: int64"
      ]
     },
     "execution_count": 50,
     "metadata": {},
     "output_type": "execute_result"
    }
   ],
   "source": [
    "df_mln.city.value_counts()"
   ]
  },
  {
   "cell_type": "code",
   "execution_count": 51,
   "id": "36fc9c59-0489-4ce4-bbdb-7a3a6dfbb964",
   "metadata": {},
   "outputs": [],
   "source": [
    "df_mln.to_csv('atms_mln_cities.csv', index=False)"
   ]
  },
  {
   "cell_type": "code",
   "execution_count": 20,
   "id": "abe4fe61-bc3e-48cf-969a-800134aae560",
   "metadata": {},
   "outputs": [],
   "source": [
    "df_mln=pd.read_csv('atms_mln_cities.csv')"
   ]
  },
  {
   "cell_type": "code",
   "execution_count": 22,
   "id": "7b46e31b-fd33-4735-8105-faebeaf49188",
   "metadata": {},
   "outputs": [],
   "source": [
    "def prepare_adr(x: str):\n",
    "    X_new = x.replace(\",\", \"\").replace(\"просп.\", \"проспект\").replace(\"пер.\", \"переулок\").replace(\"ш.\", \"шоссе \")\\\n",
    "    .replace(\"пр-кт.\", \"проспект\").replace(\"пр-кт\", \"проспект\").replace(\"пл.\", \"площадь\").replace(\"бул.\", \"бульвар \")\\\n",
    "    .replace(\"корп. \", \"к\").replace(\"д.\", \"\").replace(\"литер\", \"\")\\\n",
    "    .replace(\"наб.\", \"набережная\").replace(\"г.\", \"\").lstrip().rstrip()\n",
    "    if X_new.find('/')!=-1:\n",
    "        X_new=X_new[:X_new.find('/')].rstrip()\n",
    "    while X_new[-1].isalpha():\n",
    "        X_new=X_new[:-1]\n",
    "    X_new=X_new.replace(\" \", \"%20\")\n",
    "    return X_new"
   ]
  },
  {
   "cell_type": "code",
   "execution_count": 23,
   "id": "876f2f62-0646-4242-847d-c78cb548eaae",
   "metadata": {},
   "outputs": [],
   "source": [
    "adr_lst=list(df_mln.address.unique())\n",
    "adr_lst_=[prepare_adr(x) for x in adr_lst]"
   ]
  },
  {
   "cell_type": "code",
   "execution_count": 25,
   "id": "f7671170-497c-499e-b99e-1550194f82c6",
   "metadata": {},
   "outputs": [
    {
     "data": {
      "text/plain": [
       "12422"
      ]
     },
     "execution_count": 25,
     "metadata": {},
     "output_type": "execute_result"
    }
   ],
   "source": [
    "len(adr_lst_)"
   ]
  },
  {
   "cell_type": "code",
   "execution_count": 70,
   "id": "aab2fe57-e450-4766-b205-42ba1e6b5b98",
   "metadata": {
    "scrolled": true
   },
   "outputs": [],
   "source": [
    "adr_crds=[]\n",
    "for x in adr_lst_:\n",
    "    u=f\"https://api.geotree.ru/address.php?term={x}&key=KiOeaTm7x0ZX\"\n",
    "    response=requests.get(u)\n",
    "    try:\n",
    "        crds=json.loads(response.text)[0]['geo_center']\n",
    "    except:\n",
    "        crds={}\n",
    "    adr_crds.append(crds)\n",
    "\n",
    "df_mlns_geocoded=pd.DataFrame(dict(zip(adr_lst, adr_crds))).transpose().reset_index().rename({'index':'address'})\n",
    "df_mlns_geocoded.to_csv('df_mlns_geocoded.csv')"
   ]
  },
  {
   "cell_type": "code",
   "execution_count": 151,
   "id": "15c0090c-fd32-4562-8910-202970c1b4c2",
   "metadata": {},
   "outputs": [],
   "source": [
    "df_mlns_geocoded=pd.read_csv('df_mlns_geocoded.csv').iloc[:, 1:]"
   ]
  },
  {
   "cell_type": "code",
   "execution_count": 85,
   "id": "ec06f6d4-8856-4db8-b233-70b69e957ae2",
   "metadata": {},
   "outputs": [],
   "source": [
    "df_mlns_non_gcdd=df_mlns_geocoded[df_mlns_geocoded.lat.isna()].iloc[:, 0]"
   ]
  },
  {
   "cell_type": "code",
   "execution_count": 96,
   "id": "78a47ef6-fec3-4496-9956-f97e8ca7613e",
   "metadata": {},
   "outputs": [],
   "source": [
    "from dadata import Dadata\n",
    "\n",
    "token = \"ce6b8c42f0ba7ad8cc5643ccb4c38bc7ae08ffb2\"\n",
    "secret = \"35d6132915ed524a8bd3b6c69cb151780a2dfc12\"\n",
    "dadata = Dadata(token, secret)"
   ]
  },
  {
   "cell_type": "code",
   "execution_count": 105,
   "id": "afd244c3-2a0a-4f84-97a7-31b6f1579234",
   "metadata": {},
   "outputs": [],
   "source": [
    "def prepare_adr2(x: str):\n",
    "    X_new = x.replace(\",\", \"\").replace(\"просп.\", \"проспект\").replace(\"пер.\", \"переулок\").replace(\"ш.\", \"шоссе \")\\\n",
    "    .replace(\"пр-кт.\", \"проспект\").replace(\"пр-кт\", \"проспект\").replace(\"пл.\", \"площадь\").replace(\"бул.\", \"бульвар \")\\\n",
    "    .replace(\"корп. \", \"к\").replace(\"д.\", \"\").replace(\"литер\", \"\")\\\n",
    "    .replace(\"наб.\", \"набережная\").replace(\"г.\", \"\").lstrip().rstrip()\n",
    "    if X_new.find('/')!=-1:\n",
    "        X_new=X_new[:X_new.find('/')].rstrip()\n",
    "    while X_new[-1].isalpha():\n",
    "        X_new=X_new[:-1]\n",
    "    return X_new"
   ]
  },
  {
   "cell_type": "code",
   "execution_count": 110,
   "id": "bdac82a3-cac6-4e72-9d60-a1acb9f35854",
   "metadata": {},
   "outputs": [],
   "source": [
    "adr_List=[prepare_adr2(x) for x in list(df_mlns_non_gcdd)]\n",
    "\n",
    "L=[]\n",
    "for adr in adr_List:\n",
    "    result = dadata.clean(\"address\", adr)\n",
    "    L.append([adr, result['result'], result['geo_lat'], result['geo_lon']])"
   ]
  },
  {
   "cell_type": "markdown",
   "id": "b7514651-d1c1-495c-b633-f5c0d9bc3135",
   "metadata": {},
   "source": [
    "# 4. Собираем общий dataset со всеми банкоматами"
   ]
  },
  {
   "cell_type": "code",
   "execution_count": 141,
   "id": "dd8d24ff-b27e-441c-9eb2-97df140768fd",
   "metadata": {},
   "outputs": [],
   "source": [
    "df_mlns_dadata=pd.DataFrame(L, columns=['address', 'address2','lat','lon'])"
   ]
  },
  {
   "cell_type": "code",
   "execution_count": 144,
   "id": "d7e239e1-ed18-4f2a-a8ef-f03f72d5984e",
   "metadata": {},
   "outputs": [],
   "source": [
    "df_mlns_dadata_short=pd.concat([df_mlns_non_gcdd.to_frame().reset_index(), df_mlns_dadata],\n",
    "                               axis = 1).drop('level_0', axis=1)[['index', 'lat' ,'lon']]"
   ]
  },
  {
   "cell_type": "code",
   "execution_count": 154,
   "id": "99e1dd42-d62a-48fa-8e3e-924aacca1785",
   "metadata": {},
   "outputs": [],
   "source": [
    "df_mlns_geocoded=df_mlns_geocoded[sorted(df_mlns_geocoded.columns)]"
   ]
  },
  {
   "cell_type": "code",
   "execution_count": 157,
   "id": "70719331-e96f-48cd-bded-a769a28b90b2",
   "metadata": {},
   "outputs": [],
   "source": [
    "df_mlns_geocoded_full=pd.concat([df_mlns_geocoded[~df_mlns_geocoded.lat.isna()], df_mlns_dadata_short], axis=0)"
   ]
  },
  {
   "cell_type": "code",
   "execution_count": null,
   "id": "2cd6408e-df94-4aba-9f3c-87757eadec62",
   "metadata": {},
   "outputs": [],
   "source": [
    "df_mlns_geocoded_full.columns=df_mmo_geocoded.columns.copy()"
   ]
  },
  {
   "cell_type": "code",
   "execution_count": 170,
   "id": "07e655d1-2906-4305-9bfe-c474db72ac50",
   "metadata": {},
   "outputs": [],
   "source": [
    "df_mln=df_mln[atms_MMO.columns]"
   ]
  },
  {
   "cell_type": "code",
   "execution_count": 164,
   "id": "115361f9-7a44-4a96-a421-c18b50a9fac9",
   "metadata": {},
   "outputs": [],
   "source": [
    "df_mmo_geocoded=pd.read_csv('df_mmo_geocoded.csv')[['address', 'geo_lat', 'geo_lon']]"
   ]
  },
  {
   "cell_type": "code",
   "execution_count": null,
   "id": "f37e5212-6dc9-4d5f-8150-65af082e1559",
   "metadata": {},
   "outputs": [],
   "source": [
    "atms_MMO=pd.read_csv('atms_MMO.csv')\n",
    "atms_MMO.head()"
   ]
  },
  {
   "cell_type": "code",
   "execution_count": 189,
   "id": "078c48ae-6b6f-4cb0-8858-a30c826e28bc",
   "metadata": {},
   "outputs": [],
   "source": [
    "all_atms_data=pd.concat([atms_MMO.merge(df_mmo_geocoded, on='address').dropna().drop_duplicates(), \n",
    "                         df_mln.merge(df_mlns_geocoded_full, on='address').dropna().drop_duplicates()], axis=0)"
   ]
  },
  {
   "cell_type": "code",
   "execution_count": 193,
   "id": "827c7006-64ce-4c16-8e7d-4d31788769a3",
   "metadata": {},
   "outputs": [
    {
     "data": {
      "text/html": [
       "<div>\n",
       "<style scoped>\n",
       "    .dataframe tbody tr th:only-of-type {\n",
       "        vertical-align: middle;\n",
       "    }\n",
       "\n",
       "    .dataframe tbody tr th {\n",
       "        vertical-align: top;\n",
       "    }\n",
       "\n",
       "    .dataframe thead th {\n",
       "        text-align: right;\n",
       "    }\n",
       "</style>\n",
       "<table border=\"1\" class=\"dataframe\">\n",
       "  <thead>\n",
       "    <tr style=\"text-align: right;\">\n",
       "      <th></th>\n",
       "      <th>address</th>\n",
       "      <th>bank_name</th>\n",
       "      <th>schedule</th>\n",
       "      <th>geo_lat</th>\n",
       "      <th>geo_lon</th>\n",
       "    </tr>\n",
       "  </thead>\n",
       "  <tbody>\n",
       "    <tr>\n",
       "      <th>0</th>\n",
       "      <td>г. Сергиев Посад, ул.Кооперативная, д.2</td>\n",
       "      <td>Авангард</td>\n",
       "      <td>Круглосуточно</td>\n",
       "      <td>56.301963</td>\n",
       "      <td>38.135828</td>\n",
       "    </tr>\n",
       "    <tr>\n",
       "      <th>2</th>\n",
       "      <td>г. Сергиев Посад, ул.Кооперативная, д.2</td>\n",
       "      <td>Банк ВТБ</td>\n",
       "      <td>Доступен в режиме работы места установки</td>\n",
       "      <td>56.301963</td>\n",
       "      <td>38.135828</td>\n",
       "    </tr>\n",
       "    <tr>\n",
       "      <th>4</th>\n",
       "      <td>г. Сергиев Посад, ул.Вознесенская, д.32а</td>\n",
       "      <td>Банк Уралсиб</td>\n",
       "      <td>Круглосуточно</td>\n",
       "      <td>56.303856</td>\n",
       "      <td>38.133214</td>\n",
       "    </tr>\n",
       "    <tr>\n",
       "      <th>8</th>\n",
       "      <td>г. Сергиев Посад, ул.Вознесенская, д.32а</td>\n",
       "      <td>Банк «Открытие»</td>\n",
       "      <td>Круглосуточно</td>\n",
       "      <td>56.303856</td>\n",
       "      <td>38.133214</td>\n",
       "    </tr>\n",
       "    <tr>\n",
       "      <th>12</th>\n",
       "      <td>г. Сергиев Посад, ул.Вознесенская, д.32а</td>\n",
       "      <td>Московский Кредитный Банк</td>\n",
       "      <td>Круглосуточно</td>\n",
       "      <td>56.303856</td>\n",
       "      <td>38.133214</td>\n",
       "    </tr>\n",
       "  </tbody>\n",
       "</table>\n",
       "</div>"
      ],
      "text/plain": [
       "                                     address                  bank_name  \\\n",
       "0    г. Сергиев Посад, ул.Кооперативная, д.2                   Авангард   \n",
       "2    г. Сергиев Посад, ул.Кооперативная, д.2                   Банк ВТБ   \n",
       "4   г. Сергиев Посад, ул.Вознесенская, д.32а               Банк Уралсиб   \n",
       "8   г. Сергиев Посад, ул.Вознесенская, д.32а            Банк «Открытие»   \n",
       "12  г. Сергиев Посад, ул.Вознесенская, д.32а  Московский Кредитный Банк   \n",
       "\n",
       "                                    schedule    geo_lat    geo_lon  \n",
       "0                              Круглосуточно  56.301963  38.135828  \n",
       "2   Доступен в режиме работы места установки  56.301963  38.135828  \n",
       "4                              Круглосуточно  56.303856  38.133214  \n",
       "8                              Круглосуточно  56.303856  38.133214  \n",
       "12                             Круглосуточно  56.303856  38.133214  "
      ]
     },
     "execution_count": 193,
     "metadata": {},
     "output_type": "execute_result"
    }
   ],
   "source": [
    "all_atms_data.head()"
   ]
  },
  {
   "cell_type": "code",
   "execution_count": 195,
   "id": "501c0d92-0063-4776-882d-1c01a8918fac",
   "metadata": {},
   "outputs": [],
   "source": [
    "all_atms_data.to_csv('all_atms_data.csv', index = False)"
   ]
  }
 ],
 "metadata": {
  "kernelspec": {
   "display_name": "Python 3 (ipykernel)",
   "language": "python",
   "name": "python3"
  },
  "language_info": {
   "codemirror_mode": {
    "name": "ipython",
    "version": 3
   },
   "file_extension": ".py",
   "mimetype": "text/x-python",
   "name": "python",
   "nbconvert_exporter": "python",
   "pygments_lexer": "ipython3",
   "version": "3.11.5"
  }
 },
 "nbformat": 4,
 "nbformat_minor": 5
}
